{
 "cells": [
  {
   "cell_type": "code",
   "execution_count": 227,
   "id": "c442d2e8-cdd3-4432-b365-5d6d0520d8f3",
   "metadata": {},
   "outputs": [],
   "source": [
    "import numpy as np\n",
    "import pandas as pd\n",
    "import matplotlib.pyplot as plt\n",
    "import seaborn as sns"
   ]
  },
  {
   "cell_type": "code",
   "execution_count": 228,
   "id": "ef7cac4c-9858-45a3-9377-fbad46a89e1b",
   "metadata": {},
   "outputs": [],
   "source": [
    "df = pd.read_csv(\"C:/Users/athul/Downloads/Most Streamed Spotify Songs 2024.csv\", encoding='latin-1')"
   ]
  },
  {
   "cell_type": "code",
   "execution_count": 229,
   "id": "de3fe2ce-1050-421c-b27f-8923ff34c9c0",
   "metadata": {},
   "outputs": [
    {
     "data": {
      "text/html": [
       "<div>\n",
       "<style scoped>\n",
       "    .dataframe tbody tr th:only-of-type {\n",
       "        vertical-align: middle;\n",
       "    }\n",
       "\n",
       "    .dataframe tbody tr th {\n",
       "        vertical-align: top;\n",
       "    }\n",
       "\n",
       "    .dataframe thead th {\n",
       "        text-align: right;\n",
       "    }\n",
       "</style>\n",
       "<table border=\"1\" class=\"dataframe\">\n",
       "  <thead>\n",
       "    <tr style=\"text-align: right;\">\n",
       "      <th></th>\n",
       "      <th>Track</th>\n",
       "      <th>Album Name</th>\n",
       "      <th>Artist</th>\n",
       "      <th>Release Date</th>\n",
       "      <th>ISRC</th>\n",
       "      <th>All Time Rank</th>\n",
       "      <th>Track Score</th>\n",
       "      <th>Spotify Streams</th>\n",
       "      <th>Spotify Playlist Count</th>\n",
       "      <th>Spotify Playlist Reach</th>\n",
       "      <th>...</th>\n",
       "      <th>SiriusXM Spins</th>\n",
       "      <th>Deezer Playlist Count</th>\n",
       "      <th>Deezer Playlist Reach</th>\n",
       "      <th>Amazon Playlist Count</th>\n",
       "      <th>Pandora Streams</th>\n",
       "      <th>Pandora Track Stations</th>\n",
       "      <th>Soundcloud Streams</th>\n",
       "      <th>Shazam Counts</th>\n",
       "      <th>TIDAL Popularity</th>\n",
       "      <th>Explicit Track</th>\n",
       "    </tr>\n",
       "  </thead>\n",
       "  <tbody>\n",
       "    <tr>\n",
       "      <th>0</th>\n",
       "      <td>MILLION DOLLAR BABY</td>\n",
       "      <td>Million Dollar Baby - Single</td>\n",
       "      <td>Tommy Richman</td>\n",
       "      <td>4/26/2024</td>\n",
       "      <td>QM24S2402528</td>\n",
       "      <td>1</td>\n",
       "      <td>725.4</td>\n",
       "      <td>390,470,936</td>\n",
       "      <td>30,716</td>\n",
       "      <td>196,631,588</td>\n",
       "      <td>...</td>\n",
       "      <td>684</td>\n",
       "      <td>62.0</td>\n",
       "      <td>17,598,718</td>\n",
       "      <td>114.0</td>\n",
       "      <td>18,004,655</td>\n",
       "      <td>22,931</td>\n",
       "      <td>4,818,457</td>\n",
       "      <td>2,669,262</td>\n",
       "      <td>NaN</td>\n",
       "      <td>0</td>\n",
       "    </tr>\n",
       "    <tr>\n",
       "      <th>1</th>\n",
       "      <td>Not Like Us</td>\n",
       "      <td>Not Like Us</td>\n",
       "      <td>Kendrick Lamar</td>\n",
       "      <td>5/4/2024</td>\n",
       "      <td>USUG12400910</td>\n",
       "      <td>2</td>\n",
       "      <td>545.9</td>\n",
       "      <td>323,703,884</td>\n",
       "      <td>28,113</td>\n",
       "      <td>174,597,137</td>\n",
       "      <td>...</td>\n",
       "      <td>3</td>\n",
       "      <td>67.0</td>\n",
       "      <td>10,422,430</td>\n",
       "      <td>111.0</td>\n",
       "      <td>7,780,028</td>\n",
       "      <td>28,444</td>\n",
       "      <td>6,623,075</td>\n",
       "      <td>1,118,279</td>\n",
       "      <td>NaN</td>\n",
       "      <td>1</td>\n",
       "    </tr>\n",
       "    <tr>\n",
       "      <th>2</th>\n",
       "      <td>i like the way you kiss me</td>\n",
       "      <td>I like the way you kiss me</td>\n",
       "      <td>Artemas</td>\n",
       "      <td>3/19/2024</td>\n",
       "      <td>QZJ842400387</td>\n",
       "      <td>3</td>\n",
       "      <td>538.4</td>\n",
       "      <td>601,309,283</td>\n",
       "      <td>54,331</td>\n",
       "      <td>211,607,669</td>\n",
       "      <td>...</td>\n",
       "      <td>536</td>\n",
       "      <td>136.0</td>\n",
       "      <td>36,321,847</td>\n",
       "      <td>172.0</td>\n",
       "      <td>5,022,621</td>\n",
       "      <td>5,639</td>\n",
       "      <td>7,208,651</td>\n",
       "      <td>5,285,340</td>\n",
       "      <td>NaN</td>\n",
       "      <td>0</td>\n",
       "    </tr>\n",
       "    <tr>\n",
       "      <th>3</th>\n",
       "      <td>Flowers</td>\n",
       "      <td>Flowers - Single</td>\n",
       "      <td>Miley Cyrus</td>\n",
       "      <td>1/12/2023</td>\n",
       "      <td>USSM12209777</td>\n",
       "      <td>4</td>\n",
       "      <td>444.9</td>\n",
       "      <td>2,031,280,633</td>\n",
       "      <td>269,802</td>\n",
       "      <td>136,569,078</td>\n",
       "      <td>...</td>\n",
       "      <td>2,182</td>\n",
       "      <td>264.0</td>\n",
       "      <td>24,684,248</td>\n",
       "      <td>210.0</td>\n",
       "      <td>190,260,277</td>\n",
       "      <td>203,384</td>\n",
       "      <td>NaN</td>\n",
       "      <td>11,822,942</td>\n",
       "      <td>NaN</td>\n",
       "      <td>0</td>\n",
       "    </tr>\n",
       "    <tr>\n",
       "      <th>4</th>\n",
       "      <td>Houdini</td>\n",
       "      <td>Houdini</td>\n",
       "      <td>Eminem</td>\n",
       "      <td>5/31/2024</td>\n",
       "      <td>USUG12403398</td>\n",
       "      <td>5</td>\n",
       "      <td>423.3</td>\n",
       "      <td>107,034,922</td>\n",
       "      <td>7,223</td>\n",
       "      <td>151,469,874</td>\n",
       "      <td>...</td>\n",
       "      <td>1</td>\n",
       "      <td>82.0</td>\n",
       "      <td>17,660,624</td>\n",
       "      <td>105.0</td>\n",
       "      <td>4,493,884</td>\n",
       "      <td>7,006</td>\n",
       "      <td>207,179</td>\n",
       "      <td>457,017</td>\n",
       "      <td>NaN</td>\n",
       "      <td>1</td>\n",
       "    </tr>\n",
       "  </tbody>\n",
       "</table>\n",
       "<p>5 rows × 29 columns</p>\n",
       "</div>"
      ],
      "text/plain": [
       "                        Track                    Album Name          Artist  \\\n",
       "0         MILLION DOLLAR BABY  Million Dollar Baby - Single   Tommy Richman   \n",
       "1                 Not Like Us                   Not Like Us  Kendrick Lamar   \n",
       "2  i like the way you kiss me    I like the way you kiss me         Artemas   \n",
       "3                     Flowers              Flowers - Single     Miley Cyrus   \n",
       "4                     Houdini                       Houdini          Eminem   \n",
       "\n",
       "  Release Date          ISRC All Time Rank  Track Score Spotify Streams  \\\n",
       "0    4/26/2024  QM24S2402528             1        725.4     390,470,936   \n",
       "1     5/4/2024  USUG12400910             2        545.9     323,703,884   \n",
       "2    3/19/2024  QZJ842400387             3        538.4     601,309,283   \n",
       "3    1/12/2023  USSM12209777             4        444.9   2,031,280,633   \n",
       "4    5/31/2024  USUG12403398             5        423.3     107,034,922   \n",
       "\n",
       "  Spotify Playlist Count Spotify Playlist Reach  ...  SiriusXM Spins  \\\n",
       "0                 30,716            196,631,588  ...             684   \n",
       "1                 28,113            174,597,137  ...               3   \n",
       "2                 54,331            211,607,669  ...             536   \n",
       "3                269,802            136,569,078  ...           2,182   \n",
       "4                  7,223            151,469,874  ...               1   \n",
       "\n",
       "  Deezer Playlist Count Deezer Playlist Reach Amazon Playlist Count  \\\n",
       "0                  62.0            17,598,718                 114.0   \n",
       "1                  67.0            10,422,430                 111.0   \n",
       "2                 136.0            36,321,847                 172.0   \n",
       "3                 264.0            24,684,248                 210.0   \n",
       "4                  82.0            17,660,624                 105.0   \n",
       "\n",
       "  Pandora Streams Pandora Track Stations Soundcloud Streams  Shazam Counts  \\\n",
       "0      18,004,655                 22,931          4,818,457      2,669,262   \n",
       "1       7,780,028                 28,444          6,623,075      1,118,279   \n",
       "2       5,022,621                  5,639          7,208,651      5,285,340   \n",
       "3     190,260,277                203,384                NaN     11,822,942   \n",
       "4       4,493,884                  7,006            207,179        457,017   \n",
       "\n",
       "  TIDAL Popularity Explicit Track  \n",
       "0              NaN              0  \n",
       "1              NaN              1  \n",
       "2              NaN              0  \n",
       "3              NaN              0  \n",
       "4              NaN              1  \n",
       "\n",
       "[5 rows x 29 columns]"
      ]
     },
     "execution_count": 229,
     "metadata": {},
     "output_type": "execute_result"
    }
   ],
   "source": [
    "df.head()"
   ]
  },
  {
   "cell_type": "code",
   "execution_count": 230,
   "id": "b786d68b-3430-4ef3-be8e-a4c4a825af2e",
   "metadata": {},
   "outputs": [
    {
     "data": {
      "text/plain": [
       "Track                            0\n",
       "Album Name                       0\n",
       "Artist                           5\n",
       "Release Date                     0\n",
       "ISRC                             0\n",
       "All Time Rank                    0\n",
       "Track Score                      0\n",
       "Spotify Streams                113\n",
       "Spotify Playlist Count          70\n",
       "Spotify Playlist Reach          72\n",
       "Spotify Popularity             804\n",
       "YouTube Views                  308\n",
       "YouTube Likes                  315\n",
       "TikTok Posts                  1173\n",
       "TikTok Likes                   980\n",
       "TikTok Views                   981\n",
       "YouTube Playlist Reach        1009\n",
       "Apple Music Playlist Count     561\n",
       "AirPlay Spins                  498\n",
       "SiriusXM Spins                2123\n",
       "Deezer Playlist Count          921\n",
       "Deezer Playlist Reach          928\n",
       "Amazon Playlist Count         1055\n",
       "Pandora Streams               1106\n",
       "Pandora Track Stations        1268\n",
       "Soundcloud Streams            3333\n",
       "Shazam Counts                  577\n",
       "TIDAL Popularity              4600\n",
       "Explicit Track                   0\n",
       "dtype: int64"
      ]
     },
     "execution_count": 230,
     "metadata": {},
     "output_type": "execute_result"
    }
   ],
   "source": [
    "df.isnull().sum()"
   ]
  },
  {
   "cell_type": "code",
   "execution_count": 231,
   "id": "66546002-50ed-41b0-ab2f-a423adc4be53",
   "metadata": {},
   "outputs": [
    {
     "name": "stdout",
     "output_type": "stream",
     "text": [
      "                                Track                        Album Name  \\\n",
      "0                 MILLION DOLLAR BABY      Million Dollar Baby - Single   \n",
      "1                         Not Like Us                       Not Like Us   \n",
      "2          i like the way you kiss me        I like the way you kiss me   \n",
      "3                             Flowers                  Flowers - Single   \n",
      "4                             Houdini                           Houdini   \n",
      "...                               ...                               ...   \n",
      "4595                For the Last Time                 For the Last Time   \n",
      "4596                 Dil Meri Na Sune  Dil Meri Na Sune (From \"Genius\")   \n",
      "4597            Grace (feat. 42 Dugg)                           My Turn   \n",
      "4598              Nashe Si Chadh Gayi             November Top 10 Songs   \n",
      "4599  Me Acostumbre (feat. Bad Bunny)   Me Acostumbre (feat. Bad Bunny)   \n",
      "\n",
      "              Artist Release Date          ISRC All Time Rank  Track Score  \\\n",
      "0      Tommy Richman    4/26/2024  QM24S2402528             1        725.4   \n",
      "1     Kendrick Lamar     5/4/2024  USUG12400910             2        545.9   \n",
      "2            Artemas    3/19/2024  QZJ842400387             3        538.4   \n",
      "3        Miley Cyrus    1/12/2023  USSM12209777             4        444.9   \n",
      "4             Eminem    5/31/2024  USUG12403398             5        423.3   \n",
      "...              ...          ...           ...           ...          ...   \n",
      "4595     $uicideboy$     9/5/2017  QM8DG1703420         4,585         19.4   \n",
      "4596      Atif Aslam    7/27/2018  INT101800122         4,575         19.4   \n",
      "4597        Lil Baby    2/28/2020  USUG12000043         4,571         19.4   \n",
      "4598    Arijit Singh    11/8/2016  INY091600067         4,591         19.4   \n",
      "4599       Arcï¿½ï¿½    4/11/2017  USB271700107         4,593         19.4   \n",
      "\n",
      "     Spotify Streams Spotify Playlist Count Spotify Playlist Reach  ...  \\\n",
      "0        390,470,936                 30,716            196,631,588  ...   \n",
      "1        323,703,884                 28,113            174,597,137  ...   \n",
      "2        601,309,283                 54,331            211,607,669  ...   \n",
      "3      2,031,280,633                269,802            136,569,078  ...   \n",
      "4        107,034,922                  7,223            151,469,874  ...   \n",
      "...              ...                    ...                    ...  ...   \n",
      "4595     305,049,963                 65,770              5,103,054  ...   \n",
      "4596      52,282,360                  4,602              1,449,767  ...   \n",
      "4597     189,972,685                 72,066              6,704,802  ...   \n",
      "4598     145,467,020                 14,037              7,387,064  ...   \n",
      "4599     255,740,653                 32,138             14,066,526  ...   \n",
      "\n",
      "      SiriusXM Spins Deezer Playlist Count Deezer Playlist Reach  \\\n",
      "0                684                  62.0            17,598,718   \n",
      "1                  3                  67.0            10,422,430   \n",
      "2                536                 136.0            36,321,847   \n",
      "3              2,182                 264.0            24,684,248   \n",
      "4                  1                  82.0            17,660,624   \n",
      "...              ...                   ...                   ...   \n",
      "4595             NaN                   2.0                14,217   \n",
      "4596             NaN                   1.0                   927   \n",
      "4597             NaN                   1.0                    74   \n",
      "4598             NaN                   NaN                   NaN   \n",
      "4599             NaN                   4.0               127,479   \n",
      "\n",
      "     Amazon Playlist Count Pandora Streams Pandora Track Stations  \\\n",
      "0                    114.0      18,004,655                 22,931   \n",
      "1                    111.0       7,780,028                 28,444   \n",
      "2                    172.0       5,022,621                  5,639   \n",
      "3                    210.0     190,260,277                203,384   \n",
      "4                    105.0       4,493,884                  7,006   \n",
      "...                    ...             ...                    ...   \n",
      "4595                   NaN      20,104,066                 13,184   \n",
      "4596                   NaN             NaN                    NaN   \n",
      "4597                   6.0      84,426,740                 28,999   \n",
      "4598                   7.0       6,817,840                    NaN   \n",
      "4599                   4.0      69,006,739                 11,320   \n",
      "\n",
      "     Soundcloud Streams  Shazam Counts TIDAL Popularity Explicit Track  \n",
      "0             4,818,457      2,669,262              NaN              0  \n",
      "1             6,623,075      1,118,279              NaN              1  \n",
      "2             7,208,651      5,285,340              NaN              0  \n",
      "3                   NaN     11,822,942              NaN              0  \n",
      "4               207,179        457,017              NaN              1  \n",
      "...                 ...            ...              ...            ...  \n",
      "4595         50,633,006        656,337              NaN              1  \n",
      "4596                NaN        193,590              NaN              0  \n",
      "4597                NaN      1,135,998              NaN              1  \n",
      "4598                NaN        448,292              NaN              0  \n",
      "4599                NaN        767,006              NaN              1  \n",
      "\n",
      "[4600 rows x 29 columns]\n"
     ]
    }
   ],
   "source": [
    "null_mask = df.isnull().any(axis=1)\n",
    "rows_with_nulls = df[null_mask]\n",
    "print(rows_with_nulls)"
   ]
  },
  {
   "cell_type": "code",
   "execution_count": 232,
   "id": "7a4e09dc-520e-4808-b808-5d8bc85d2c12",
   "metadata": {},
   "outputs": [
    {
     "data": {
      "text/plain": [
       "Track                           Nashe Si Chadh Gayi\n",
       "Album Name                    November Top 10 Songs\n",
       "Artist                                 Arijit Singh\n",
       "Release Date                              11/8/2016\n",
       "ISRC                                   INY091600067\n",
       "All Time Rank                                 4,591\n",
       "Track Score                                    19.4\n",
       "Spotify Streams                         145,467,020\n",
       "Spotify Playlist Count                       14,037\n",
       "Spotify Playlist Reach                    7,387,064\n",
       "Spotify Popularity                             66.0\n",
       "YouTube Views                         1,118,595,159\n",
       "YouTube Likes                             3,868,828\n",
       "TikTok Posts                                 11,433\n",
       "TikTok Likes                              2,534,831\n",
       "TikTok Views                             37,757,301\n",
       "YouTube Playlist Reach                   25,150,516\n",
       "Apple Music Playlist Count                      1.0\n",
       "AirPlay Spins                                 1,200\n",
       "SiriusXM Spins                                  NaN\n",
       "Deezer Playlist Count                           NaN\n",
       "Deezer Playlist Reach                           NaN\n",
       "Amazon Playlist Count                           7.0\n",
       "Pandora Streams                           6,817,840\n",
       "Pandora Track Stations                          NaN\n",
       "Soundcloud Streams                              NaN\n",
       "Shazam Counts                               448,292\n",
       "TIDAL Popularity                                NaN\n",
       "Explicit Track                                    0\n",
       "Name: 4598, dtype: object"
      ]
     },
     "execution_count": 232,
     "metadata": {},
     "output_type": "execute_result"
    }
   ],
   "source": [
    "df.loc[4598]"
   ]
  },
  {
   "cell_type": "code",
   "execution_count": 233,
   "id": "7dc44c65-e6b9-42dd-9d4f-ee26498efddc",
   "metadata": {},
   "outputs": [
    {
     "data": {
      "text/plain": [
       "Index(['Track', 'Album Name', 'Artist', 'Release Date', 'ISRC',\n",
       "       'All Time Rank', 'Track Score', 'Spotify Streams',\n",
       "       'Spotify Playlist Count', 'Spotify Playlist Reach',\n",
       "       'Spotify Popularity', 'YouTube Views', 'YouTube Likes', 'TikTok Posts',\n",
       "       'TikTok Likes', 'TikTok Views', 'YouTube Playlist Reach',\n",
       "       'Apple Music Playlist Count', 'AirPlay Spins', 'SiriusXM Spins',\n",
       "       'Deezer Playlist Count', 'Deezer Playlist Reach',\n",
       "       'Amazon Playlist Count', 'Pandora Streams', 'Pandora Track Stations',\n",
       "       'Soundcloud Streams', 'Shazam Counts', 'TIDAL Popularity',\n",
       "       'Explicit Track'],\n",
       "      dtype='object')"
      ]
     },
     "execution_count": 233,
     "metadata": {},
     "output_type": "execute_result"
    }
   ],
   "source": [
    "df.columns"
   ]
  },
  {
   "cell_type": "code",
   "execution_count": 234,
   "id": "bc0a5b8e-969b-49e3-a18c-ca350909bcab",
   "metadata": {},
   "outputs": [],
   "source": [
    "dropCols = (['ISRC','YouTube Likes','TikTok Posts','TikTok Likes','TikTok Views','YouTube Playlist Reach','Apple Music Playlist Count','Shazam Counts','TIDAL Popularity','Explicit Track'])"
   ]
  },
  {
   "cell_type": "code",
   "execution_count": 235,
   "id": "f7a59018-1c70-420b-a419-1e78ba9fc5b8",
   "metadata": {},
   "outputs": [],
   "source": [
    "df['SiriusXM Spins'] = df.dropna"
   ]
  },
  {
   "cell_type": "code",
   "execution_count": 236,
   "id": "1e5f216b-5d40-4d7d-85be-2f62b722a104",
   "metadata": {},
   "outputs": [],
   "source": [
    "df = df.drop(dropCols,axis=1)"
   ]
  },
  {
   "cell_type": "code",
   "execution_count": 237,
   "id": "ff6bda2b-9b2c-41f9-ab8b-b77422893bd0",
   "metadata": {},
   "outputs": [
    {
     "data": {
      "text/plain": [
       "Track                        0\n",
       "Album Name                   0\n",
       "Artist                       5\n",
       "Release Date                 0\n",
       "All Time Rank                0\n",
       "Track Score                  0\n",
       "Spotify Streams            113\n",
       "Spotify Playlist Count      70\n",
       "Spotify Playlist Reach      72\n",
       "Spotify Popularity         804\n",
       "YouTube Views              308\n",
       "AirPlay Spins              498\n",
       "SiriusXM Spins               0\n",
       "Deezer Playlist Count      921\n",
       "Deezer Playlist Reach      928\n",
       "Amazon Playlist Count     1055\n",
       "Pandora Streams           1106\n",
       "Pandora Track Stations    1268\n",
       "Soundcloud Streams        3333\n",
       "dtype: int64"
      ]
     },
     "execution_count": 237,
     "metadata": {},
     "output_type": "execute_result"
    }
   ],
   "source": [
    "df.isnull().sum()"
   ]
  },
  {
   "cell_type": "code",
   "execution_count": 238,
   "id": "e4ee6e9c-60c4-4b71-a8b9-2aff518144e9",
   "metadata": {},
   "outputs": [
    {
     "data": {
      "text/plain": [
       "Track                      object\n",
       "Album Name                 object\n",
       "Artist                     object\n",
       "Release Date               object\n",
       "All Time Rank              object\n",
       "Track Score               float64\n",
       "Spotify Streams            object\n",
       "Spotify Playlist Count     object\n",
       "Spotify Playlist Reach     object\n",
       "Spotify Popularity        float64\n",
       "YouTube Views              object\n",
       "AirPlay Spins              object\n",
       "SiriusXM Spins             object\n",
       "Deezer Playlist Count     float64\n",
       "Deezer Playlist Reach      object\n",
       "Amazon Playlist Count     float64\n",
       "Pandora Streams            object\n",
       "Pandora Track Stations     object\n",
       "Soundcloud Streams         object\n",
       "dtype: object"
      ]
     },
     "execution_count": 238,
     "metadata": {},
     "output_type": "execute_result"
    }
   ],
   "source": [
    "df.dtypes"
   ]
  },
  {
   "cell_type": "code",
   "execution_count": 239,
   "id": "a1f247a9-2365-4142-9893-f142c02d2df4",
   "metadata": {},
   "outputs": [
    {
     "data": {
      "text/plain": [
       "0          84,274,754\n",
       "1         116,347,040\n",
       "2         122,599,116\n",
       "3       1,096,100,899\n",
       "4          77,373,957\n",
       "            ...      \n",
       "4595      149,247,747\n",
       "4596      943,920,245\n",
       "4597      201,027,333\n",
       "4598    1,118,595,159\n",
       "4599      866,300,755\n",
       "Name: YouTube Views, Length: 4600, dtype: object"
      ]
     },
     "execution_count": 239,
     "metadata": {},
     "output_type": "execute_result"
    }
   ],
   "source": [
    "df['YouTube Views']"
   ]
  },
  {
   "cell_type": "code",
   "execution_count": 240,
   "id": "75962726-2472-48e6-8a21-fe991ccc0e67",
   "metadata": {},
   "outputs": [],
   "source": [
    "df['YouTube Views'].fillna(df['YouTube Views'].mode(),inplace=True)"
   ]
  },
  {
   "cell_type": "code",
   "execution_count": 241,
   "id": "9053d675-a483-410c-9ab6-932036352734",
   "metadata": {},
   "outputs": [],
   "source": [
    "df['Amazon Playlist Count'].fillna(df['Amazon Playlist Count'].mean(),inplace=True)"
   ]
  },
  {
   "cell_type": "code",
   "execution_count": 242,
   "id": "49552c73-db14-4197-9c26-85c870310752",
   "metadata": {},
   "outputs": [],
   "source": [
    "df['Deezer Playlist Count'].fillna(df['Deezer Playlist Count'].median(),inplace=True)"
   ]
  },
  {
   "cell_type": "code",
   "execution_count": 243,
   "id": "411cfd28-f5dc-4a6d-83ab-0748b3caeaa5",
   "metadata": {},
   "outputs": [],
   "source": [
    "df['Spotify Popularity'].fillna(df['Spotify Popularity'].ffill(),inplace=True)"
   ]
  },
  {
   "cell_type": "code",
   "execution_count": 244,
   "id": "ea24f5b0-ff5a-4f21-ada0-2da48977558e",
   "metadata": {},
   "outputs": [],
   "source": [
    "df['Soundcloud Streams'].fillna(df['Soundcloud Streams'].ffill(),inplace=True)"
   ]
  },
  {
   "cell_type": "code",
   "execution_count": 245,
   "id": "ebe6e307-59fd-487c-8ead-5c920cf24ff6",
   "metadata": {},
   "outputs": [],
   "source": [
    "df['Pandora Track Stations'].fillna(df['Pandora Track Stations'].ffill(),inplace=True)"
   ]
  },
  {
   "cell_type": "code",
   "execution_count": 246,
   "id": "7f0810b9-a6ce-4b39-9535-f0249071ef0d",
   "metadata": {},
   "outputs": [],
   "source": [
    "df['Pandora Streams'].fillna(df['Pandora Streams'].bfill(),inplace=True)"
   ]
  },
  {
   "cell_type": "code",
   "execution_count": 247,
   "id": "c355a40b-70e6-4bbe-b68f-c6dd21b7e5b6",
   "metadata": {},
   "outputs": [],
   "source": [
    "df['Deezer Playlist Reach'].fillna(df['Deezer Playlist Reach'].bfill(),inplace=True)"
   ]
  },
  {
   "cell_type": "code",
   "execution_count": 248,
   "id": "bd01139c-6f07-48c7-ab0b-340b94280842",
   "metadata": {},
   "outputs": [],
   "source": [
    "df['AirPlay Spins'] = df.dropna"
   ]
  },
  {
   "cell_type": "code",
   "execution_count": 249,
   "id": "76d46cac-9691-44b7-96e3-034eeeb5f4d4",
   "metadata": {},
   "outputs": [],
   "source": [
    "df['YouTube Views'] = df['YouTube Views'].fillna(0)"
   ]
  },
  {
   "cell_type": "code",
   "execution_count": 250,
   "id": "1d0c69b6-b062-4570-a419-2b9c1c17c076",
   "metadata": {},
   "outputs": [
    {
     "data": {
      "text/plain": [
       "0      390,470,936\n",
       "1      323,703,884\n",
       "2      601,309,283\n",
       "3    2,031,280,633\n",
       "4      107,034,922\n",
       "5      670,665,438\n",
       "6      900,158,751\n",
       "7      675,079,153\n",
       "8    1,653,018,119\n",
       "9       90,676,573\n",
       "Name: Spotify Streams, dtype: object"
      ]
     },
     "execution_count": 250,
     "metadata": {},
     "output_type": "execute_result"
    }
   ],
   "source": [
    "df['Spotify Streams'].head(10)"
   ]
  },
  {
   "cell_type": "code",
   "execution_count": 251,
   "id": "15e5e4e5-c680-4c1a-a69a-57d85b75285f",
   "metadata": {},
   "outputs": [],
   "source": [
    "df['Pandora Streams'].fillna(df['Pandora Streams'].bfill(),inplace=True)"
   ]
  },
  {
   "cell_type": "code",
   "execution_count": 252,
   "id": "5e8fd537-b819-4704-b3b0-9ba0152e555d",
   "metadata": {},
   "outputs": [],
   "source": [
    "first_10_values = df['Spotify Streams'].dropna().head(120).tolist()\n",
    "\n",
    "df['Spotify Streams'] = df['Spotify Streams'].apply(lambda x: first_10_values.pop(0) if pd.isna(x) and first_10_values else x)"
   ]
  },
  {
   "cell_type": "code",
   "execution_count": 253,
   "id": "3a993be1-67f3-4de3-8e12-5228d5a9b853",
   "metadata": {},
   "outputs": [
    {
     "data": {
      "text/plain": [
       "Track                      0\n",
       "Album Name                 0\n",
       "Artist                     5\n",
       "Release Date               0\n",
       "All Time Rank              0\n",
       "Track Score                0\n",
       "Spotify Streams            0\n",
       "Spotify Playlist Count    70\n",
       "Spotify Playlist Reach    72\n",
       "Spotify Popularity         0\n",
       "YouTube Views              0\n",
       "AirPlay Spins              0\n",
       "SiriusXM Spins             0\n",
       "Deezer Playlist Count      0\n",
       "Deezer Playlist Reach      0\n",
       "Amazon Playlist Count      0\n",
       "Pandora Streams            0\n",
       "Pandora Track Stations     0\n",
       "Soundcloud Streams         0\n",
       "dtype: int64"
      ]
     },
     "execution_count": 253,
     "metadata": {},
     "output_type": "execute_result"
    }
   ],
   "source": [
    "df.isnull().sum()"
   ]
  },
  {
   "cell_type": "code",
   "execution_count": 254,
   "id": "9241b30b-368b-4af1-b556-9697fd67c800",
   "metadata": {},
   "outputs": [],
   "source": [
    "df['Spotify Playlist Count'].fillna(df['Spotify Playlist Count'].bfill(),inplace=True)"
   ]
  },
  {
   "cell_type": "code",
   "execution_count": 261,
   "id": "fd489c55-a98e-4bb3-b4d1-fd9fe46f0e5a",
   "metadata": {},
   "outputs": [],
   "source": [
    "df['Artist'] = df['Artist'].fillna(0)"
   ]
  },
  {
   "cell_type": "code",
   "execution_count": 262,
   "id": "059805c8-912e-42f9-b38b-027d32ace55f",
   "metadata": {},
   "outputs": [],
   "source": [
    "df['Spotify Playlist Reach'].fillna(df['Spotify Playlist Reach'].ffill(),inplace=True)"
   ]
  },
  {
   "cell_type": "code",
   "execution_count": 263,
   "id": "c57e6a92-d48c-4742-a8fe-d1dff75c30fb",
   "metadata": {},
   "outputs": [
    {
     "data": {
      "text/plain": [
       "Track                     0\n",
       "Album Name                0\n",
       "Artist                    0\n",
       "Release Date              0\n",
       "All Time Rank             0\n",
       "Track Score               0\n",
       "Spotify Streams           0\n",
       "Spotify Playlist Count    0\n",
       "Spotify Playlist Reach    0\n",
       "Spotify Popularity        0\n",
       "YouTube Views             0\n",
       "AirPlay Spins             0\n",
       "SiriusXM Spins            0\n",
       "Deezer Playlist Count     0\n",
       "Deezer Playlist Reach     0\n",
       "Amazon Playlist Count     0\n",
       "Pandora Streams           0\n",
       "Pandora Track Stations    0\n",
       "Soundcloud Streams        0\n",
       "dtype: int64"
      ]
     },
     "execution_count": 263,
     "metadata": {},
     "output_type": "execute_result"
    }
   ],
   "source": [
    "df.isnull().sum()"
   ]
  },
  {
   "cell_type": "code",
   "execution_count": 264,
   "id": "52da3cf3-05c0-4852-9de2-c9571220fa5c",
   "metadata": {},
   "outputs": [
    {
     "name": "stdout",
     "output_type": "stream",
     "text": [
      "<class 'pandas.core.frame.DataFrame'>\n",
      "RangeIndex: 4600 entries, 0 to 4599\n",
      "Data columns (total 19 columns):\n",
      " #   Column                  Non-Null Count  Dtype  \n",
      "---  ------                  --------------  -----  \n",
      " 0   Track                   4600 non-null   object \n",
      " 1   Album Name              4600 non-null   object \n",
      " 2   Artist                  4600 non-null   object \n",
      " 3   Release Date            4600 non-null   object \n",
      " 4   All Time Rank           4600 non-null   object \n",
      " 5   Track Score             4600 non-null   float64\n",
      " 6   Spotify Streams         4600 non-null   object \n",
      " 7   Spotify Playlist Count  4600 non-null   object \n",
      " 8   Spotify Playlist Reach  4600 non-null   object \n",
      " 9   Spotify Popularity      4600 non-null   float64\n",
      " 10  YouTube Views           4600 non-null   object \n",
      " 11  AirPlay Spins           4600 non-null   object \n",
      " 12  SiriusXM Spins          4600 non-null   object \n",
      " 13  Deezer Playlist Count   4600 non-null   float64\n",
      " 14  Deezer Playlist Reach   4600 non-null   object \n",
      " 15  Amazon Playlist Count   4600 non-null   float64\n",
      " 16  Pandora Streams         4600 non-null   object \n",
      " 17  Pandora Track Stations  4600 non-null   object \n",
      " 18  Soundcloud Streams      4600 non-null   object \n",
      "dtypes: float64(4), object(15)\n",
      "memory usage: 682.9+ KB\n"
     ]
    }
   ],
   "source": [
    "df.info()"
   ]
  },
  {
   "cell_type": "code",
   "execution_count": 265,
   "id": "e7295d6f-0611-45d5-aa4a-6c1daa7e8b93",
   "metadata": {},
   "outputs": [],
   "source": [
    "# Visualization"
   ]
  },
  {
   "cell_type": "code",
   "execution_count": null,
   "id": "848c113c-469f-4027-a77e-9685d487a154",
   "metadata": {},
   "outputs": [],
   "source": []
  }
 ],
 "metadata": {
  "kernelspec": {
   "display_name": "Python 3 (ipykernel)",
   "language": "python",
   "name": "python3"
  },
  "language_info": {
   "codemirror_mode": {
    "name": "ipython",
    "version": 3
   },
   "file_extension": ".py",
   "mimetype": "text/x-python",
   "name": "python",
   "nbconvert_exporter": "python",
   "pygments_lexer": "ipython3",
   "version": "3.11.7"
  }
 },
 "nbformat": 4,
 "nbformat_minor": 5
}
