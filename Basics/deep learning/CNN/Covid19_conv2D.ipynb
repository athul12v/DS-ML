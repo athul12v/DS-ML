{
 "cells": [
  {
   "cell_type": "code",
   "execution_count": 8,
   "id": "a92e0fb7-9a88-4b97-a864-c3577e98b273",
   "metadata": {},
   "outputs": [],
   "source": [
    "import numpy as np\n",
    "import pandas as pd\n",
    "import matplotlib.pyplot as plt\n",
    "import seaborn as sns\n",
    "import random\n",
    "\n",
    "from keras.layers import Input,Flatten,Dense,Conv2D,BatchNormalization,LeakyReLU,Dropout,MaxPooling2D,Activation\n",
    "from keras.models import Model\n",
    "from keras.utils import  to_categorical\n",
    "from keras.optimizers import Adam,SGD\n",
    "from sklearn.metrics import confusion_matrix\n",
    "from tensorflow.keras.preprocessing.image import ImageDataGenerator\n",
    "from tensorflow.keras.applications.vgg19 import VGG19\n",
    "from tensorflow.keras.callbacks import ModelCheckpoint, EarlyStopping, ReduceLROnPlateau"
   ]
  },
  {
   "cell_type": "code",
   "execution_count": 9,
   "id": "da14eb3a-914c-4ae2-a109-7d95cac731d1",
   "metadata": {},
   "outputs": [],
   "source": [
    "train_data = 'D:/Datasets/Covid-19/archive (4)/Data/train'\n",
    "test_data = 'D:/Datasets/Covid-19/archive (4)/Data/test'"
   ]
  },
  {
   "cell_type": "code",
   "execution_count": 10,
   "id": "ea6d8344-7a94-4ff7-b7e6-128c76d832fb",
   "metadata": {},
   "outputs": [],
   "source": [
    "train_datagen = ImageDataGenerator(\n",
    "    rescale = 1/255,\n",
    "    rotation_range = 40,\n",
    "    width_shift_range = 0.2,\n",
    "    height_shift_range = 0.2,\n",
    "    shear_range = 0.2,\n",
    "    zoom_range = 0.2,\n",
    "    horizontal_flip = True,\n",
    "    fill_mode = 'nearest'\n",
    ")"
   ]
  },
  {
   "cell_type": "code",
   "execution_count": 12,
   "id": "e6073c37-020e-4b08-8c08-f96622517581",
   "metadata": {},
   "outputs": [],
   "source": [
    "test_datagen = ImageDataGenerator(rescale=(1./255))"
   ]
  },
  {
   "cell_type": "code",
   "execution_count": 13,
   "id": "792d2fa2-f3fa-4be5-b070-5c577d8f94af",
   "metadata": {},
   "outputs": [
    {
     "name": "stdout",
     "output_type": "stream",
     "text": [
      "Found 5144 images belonging to 3 classes.\n"
     ]
    }
   ],
   "source": [
    "train_generator = train_datagen.flow_from_directory(\n",
    "    train_data,\n",
    "    target_size = (128,128),\n",
    "    batch_size = 32,\n",
    "    class_mode = 'categorical'\n",
    ")"
   ]
  },
  {
   "cell_type": "code",
   "execution_count": 15,
   "id": "34b024e8-e2fd-4165-8d80-239f54d663b9",
   "metadata": {},
   "outputs": [
    {
     "name": "stdout",
     "output_type": "stream",
     "text": [
      "Found 1288 images belonging to 3 classes.\n"
     ]
    }
   ],
   "source": [
    "test_generator = test_datagen.flow_from_directory(\n",
    "    test_data,\n",
    "    target_size = (128,128),\n",
    "    batch_size = 32,\n",
    "    class_mode = 'categorical'\n",
    ")"
   ]
  },
  {
   "cell_type": "code",
   "execution_count": 16,
   "id": "d1dd59b8-85b3-4ea3-b354-08fea226a5b8",
   "metadata": {},
   "outputs": [
    {
     "name": "stdout",
     "output_type": "stream",
     "text": [
      "{'COVID19': 0, 'NORMAL': 1, 'PNEUMONIA': 2}\n",
      "{'COVID19': 0, 'NORMAL': 1, 'PNEUMONIA': 2}\n"
     ]
    }
   ],
   "source": [
    "print(train_generator.class_indices)\n",
    "print(test_generator.class_indices)"
   ]
  },
  {
   "cell_type": "code",
   "execution_count": 17,
   "id": "7009ece8-bc7c-4166-9e9e-e85d84b7a9c1",
   "metadata": {},
   "outputs": [
    {
     "data": {
      "text/plain": [
       "(array([[[[0.28287676, 0.28287676, 0.28287676],\n",
       "          [0.33453435, 0.33453435, 0.33453435],\n",
       "          [0.37559694, 0.37559694, 0.37559694],\n",
       "          ...,\n",
       "          [0.5675353 , 0.5675353 , 0.5675353 ],\n",
       "          [0.54245406, 0.54245406, 0.54245406],\n",
       "          [0.5700904 , 0.5700904 , 0.5700904 ]],\n",
       " \n",
       "         [[0.23814924, 0.23814924, 0.23814924],\n",
       "          [0.30897576, 0.30897576, 0.30897576],\n",
       "          [0.35216823, 0.35216823, 0.35216823],\n",
       "          ...,\n",
       "          [0.56910086, 0.56910086, 0.56910086],\n",
       "          [0.59640783, 0.59640783, 0.59640783],\n",
       "          [0.610226  , 0.610226  , 0.610226  ]],\n",
       " \n",
       "         [[0.18593997, 0.18593997, 0.18593997],\n",
       "          [0.26950946, 0.26950946, 0.26950946],\n",
       "          [0.3268959 , 0.3268959 , 0.3268959 ],\n",
       "          ...,\n",
       "          [0.6097312 , 0.6097312 , 0.6097312 ],\n",
       "          [0.6235465 , 0.6235465 , 0.6235465 ],\n",
       "          [0.6353907 , 0.6353907 , 0.6353907 ]],\n",
       " \n",
       "         ...,\n",
       " \n",
       "         [[0.6114594 , 0.6114594 , 0.6114594 ],\n",
       "          [0.5897451 , 0.5897451 , 0.5897451 ],\n",
       "          [0.58337593, 0.58337593, 0.58337593],\n",
       "          ...,\n",
       "          [0.75727755, 0.75727755, 0.75727755],\n",
       "          [0.7624117 , 0.7624117 , 0.7624117 ],\n",
       "          [0.7551653 , 0.7551653 , 0.7551653 ]],\n",
       " \n",
       "         [[0.5827398 , 0.5827398 , 0.5827398 ],\n",
       "          [0.60050595, 0.60050595, 0.60050595],\n",
       "          [0.6095956 , 0.6095956 , 0.6095956 ],\n",
       "          ...,\n",
       "          [0.7543101 , 0.7543101 , 0.7543101 ],\n",
       "          [0.76175755, 0.76175755, 0.76175755],\n",
       "          [0.759425  , 0.759425  , 0.759425  ]],\n",
       " \n",
       "         [[0.60980767, 0.60980767, 0.60980767],\n",
       "          [0.6038856 , 0.6038856 , 0.6038856 ],\n",
       "          [0.59592694, 0.59592694, 0.59592694],\n",
       "          ...,\n",
       "          [0.75856984, 0.75856984, 0.75856984],\n",
       "          [0.755368  , 0.755368  , 0.755368  ],\n",
       "          [0.7636848 , 0.7636848 , 0.7636848 ]]],\n",
       " \n",
       " \n",
       "        [[[0.36175886, 0.36175886, 0.36175886],\n",
       "          [0.32630146, 0.32630146, 0.32630146],\n",
       "          [0.28564355, 0.28564355, 0.28564355],\n",
       "          ...,\n",
       "          [0.23456092, 0.23456092, 0.23456092],\n",
       "          [0.22776356, 0.22776356, 0.22776356],\n",
       "          [0.2304461 , 0.2304461 , 0.2304461 ]],\n",
       " \n",
       "         [[0.36795083, 0.36795083, 0.36795083],\n",
       "          [0.34952128, 0.34952128, 0.34952128],\n",
       "          [0.30059966, 0.30059966, 0.30059966],\n",
       "          ...,\n",
       "          [0.23266076, 0.23266076, 0.23266076],\n",
       "          [0.23534329, 0.23534329, 0.23534329],\n",
       "          [0.23802583, 0.23802583, 0.23802583]],\n",
       " \n",
       "         [[0.37254903, 0.37254903, 0.37254903],\n",
       "          [0.36109698, 0.36109698, 0.36109698],\n",
       "          [0.3238195 , 0.3238195 , 0.3238195 ],\n",
       "          ...,\n",
       "          [0.24024048, 0.24024048, 0.24024048],\n",
       "          [0.24292302, 0.24292302, 0.24292302],\n",
       "          [0.23449825, 0.23449825, 0.23449825]],\n",
       " \n",
       "         ...,\n",
       " \n",
       "         [[0.1254902 , 0.1254902 , 0.1254902 ],\n",
       "          [0.12444483, 0.12444483, 0.12444483],\n",
       "          [0.12042101, 0.12042101, 0.12042101],\n",
       "          ...,\n",
       "          [0.7415195 , 0.7415195 , 0.7415195 ],\n",
       "          [0.73333335, 0.73333335, 0.73333335],\n",
       "          [0.73333335, 0.73333335, 0.73333335]],\n",
       " \n",
       "         [[0.11709904, 0.11709904, 0.11709904],\n",
       "          [0.11134119, 0.11134119, 0.11134119],\n",
       "          [0.09658722, 0.09658722, 0.09658722],\n",
       "          ...,\n",
       "          [0.74474293, 0.74474293, 0.74474293],\n",
       "          [0.73637915, 0.73637915, 0.73637915],\n",
       "          [0.73333335, 0.73333335, 0.73333335]],\n",
       " \n",
       "         [[0.08440662, 0.08440662, 0.08440662],\n",
       "          [0.06982277, 0.06982277, 0.06982277],\n",
       "          [0.05775134, 0.05775134, 0.05775134],\n",
       "          ...,\n",
       "          [0.743195  , 0.743195  , 0.743195  ],\n",
       "          [0.7410231 , 0.7410231 , 0.7410231 ],\n",
       "          [0.73333335, 0.73333335, 0.73333335]]],\n",
       " \n",
       " \n",
       "        [[[0.        , 0.        , 0.        ],\n",
       "          [0.        , 0.        , 0.        ],\n",
       "          [0.        , 0.        , 0.        ],\n",
       "          ...,\n",
       "          [0.79310995, 0.79310995, 0.79310995],\n",
       "          [0.8092051 , 0.8092051 , 0.8092051 ],\n",
       "          [0.8179336 , 0.8179336 , 0.8179336 ]],\n",
       " \n",
       "         [[0.        , 0.        , 0.        ],\n",
       "          [0.        , 0.        , 0.        ],\n",
       "          [0.        , 0.        , 0.        ],\n",
       "          ...,\n",
       "          [0.8024453 , 0.8024453 , 0.8024453 ],\n",
       "          [0.81387275, 0.81387275, 0.81387275],\n",
       "          [0.828588  , 0.828588  , 0.828588  ]],\n",
       " \n",
       "         [[0.        , 0.        , 0.        ],\n",
       "          [0.        , 0.        , 0.        ],\n",
       "          [0.        , 0.        , 0.        ],\n",
       "          ...,\n",
       "          [0.8098119 , 0.8098119 , 0.8098119 ],\n",
       "          [0.8185404 , 0.8185404 , 0.8185404 ],\n",
       "          [0.842591  , 0.842591  , 0.842591  ]],\n",
       " \n",
       "         ...,\n",
       " \n",
       "         [[0.5698765 , 0.5698765 , 0.5698765 ],\n",
       "          [0.5611479 , 0.5611479 , 0.5611479 ],\n",
       "          [0.5356896 , 0.5356896 , 0.5356896 ],\n",
       "          ...,\n",
       "          [0.14061134, 0.14061134, 0.14061134],\n",
       "          [0.16170904, 0.16170904, 0.16170904],\n",
       "          [0.17008482, 0.17008482, 0.17008482]],\n",
       " \n",
       "         [[0.5652088 , 0.5652088 , 0.5652088 ],\n",
       "          [0.5478722 , 0.5478722 , 0.5478722 ],\n",
       "          [0.52464503, 0.52464503, 0.52464503],\n",
       "          ...,\n",
       "          [0.11947066, 0.11947066, 0.11947066],\n",
       "          [0.11985879, 0.11985879, 0.11985879],\n",
       "          [0.14564794, 0.14564794, 0.14564794]],\n",
       " \n",
       "         [[0.5600548 , 0.5600548 , 0.5600548 ],\n",
       "          [0.5338692 , 0.5338692 , 0.5338692 ],\n",
       "          [0.52153325, 0.52153325, 0.52153325],\n",
       "          ...,\n",
       "          [0.13028835, 0.13028835, 0.13028835],\n",
       "          [0.12828831, 0.12828831, 0.12828831],\n",
       "          [0.15144576, 0.15144576, 0.15144576]]],\n",
       " \n",
       " \n",
       "        ...,\n",
       " \n",
       " \n",
       "        [[[0.42939466, 0.42939466, 0.42939466],\n",
       "          [0.396386  , 0.396386  , 0.396386  ],\n",
       "          [0.42260617, 0.42260617, 0.42260617],\n",
       "          ...,\n",
       "          [0.3276817 , 0.3276817 , 0.3276817 ],\n",
       "          [0.33039856, 0.33039856, 0.33039856],\n",
       "          [0.3383057 , 0.3383057 , 0.3383057 ]],\n",
       " \n",
       "         [[0.4232595 , 0.4232595 , 0.4232595 ],\n",
       "          [0.41226447, 0.41226447, 0.41226447],\n",
       "          [0.40970948, 0.40970948, 0.40970948],\n",
       "          ...,\n",
       "          [0.33655083, 0.33655083, 0.33655083],\n",
       "          [0.34445798, 0.34445798, 0.34445798],\n",
       "          [0.3523652 , 0.3523652 , 0.3523652 ]],\n",
       " \n",
       "         [[0.41404763, 0.41404763, 0.41404763],\n",
       "          [0.42884588, 0.42884588, 0.42884588],\n",
       "          [0.39681286, 0.39681286, 0.39681286],\n",
       "          ...,\n",
       "          [0.3506103 , 0.3506103 , 0.3506103 ],\n",
       "          [0.35851747, 0.35851747, 0.35851747],\n",
       "          [0.3565541 , 0.3565541 , 0.3565541 ]],\n",
       " \n",
       "         ...,\n",
       " \n",
       "         [[0.5127625 , 0.5127625 , 0.5127625 ],\n",
       "          [0.5172985 , 0.5172985 , 0.5172985 ],\n",
       "          [0.51532173, 0.51532173, 0.51532173],\n",
       "          ...,\n",
       "          [0.7361789 , 0.7361789 , 0.7361789 ],\n",
       "          [0.73458534, 0.73458534, 0.73458534],\n",
       "          [0.7258519 , 0.7258519 , 0.7258519 ]],\n",
       " \n",
       "         [[0.5157604 , 0.5157604 , 0.5157604 ],\n",
       "          [0.51378363, 0.51378363, 0.51378363],\n",
       "          [0.5214002 , 0.5214002 , 0.5214002 ],\n",
       "          ...,\n",
       "          [0.7343365 , 0.7343365 , 0.7343365 ],\n",
       "          [0.73642766, 0.73642766, 0.73642766],\n",
       "          [0.73137903, 0.73137903, 0.73137903]],\n",
       " \n",
       "         [[0.51964533, 0.51964533, 0.51964533],\n",
       "          [0.5275525 , 0.5275525 , 0.5275525 ],\n",
       "          [0.5278998 , 0.5278998 , 0.5278998 ],\n",
       "          ...,\n",
       "          [0.738369  , 0.738369  , 0.738369  ],\n",
       "          [0.73623985, 0.73623985, 0.73623985],\n",
       "          [0.7345243 , 0.7345243 , 0.7345243 ]]],\n",
       " \n",
       " \n",
       "        [[[0.11055643, 0.11055643, 0.11055643],\n",
       "          [0.10911055, 0.10911055, 0.10911055],\n",
       "          [0.10695052, 0.10695052, 0.10695052],\n",
       "          ...,\n",
       "          [0.25200713, 0.25200713, 0.25200713],\n",
       "          [0.25521857, 0.25521857, 0.25521857],\n",
       "          [0.25842994, 0.25842994, 0.25842994]],\n",
       " \n",
       "         [[0.1137255 , 0.1137255 , 0.1137255 ],\n",
       "          [0.11291839, 0.11291839, 0.11291839],\n",
       "          [0.10966667, 0.10966667, 0.10966667],\n",
       "          ...,\n",
       "          [0.2539703 , 0.2539703 , 0.2539703 ],\n",
       "          [0.2571817 , 0.2571817 , 0.2571817 ],\n",
       "          [0.25411484, 0.25411484, 0.25411484]],\n",
       " \n",
       "         [[0.1137255 , 0.1137255 , 0.1137255 ],\n",
       "          [0.119357  , 0.119357  , 0.119357  ],\n",
       "          [0.11613042, 0.11613042, 0.11613042],\n",
       "          ...,\n",
       "          [0.25593343, 0.25593343, 0.25593343],\n",
       "          [0.25785965, 0.25785965, 0.25785965],\n",
       "          [0.2482254 , 0.2482254 , 0.2482254 ]],\n",
       " \n",
       "         ...,\n",
       " \n",
       "         [[0.77647066, 0.77647066, 0.77647066],\n",
       "          [0.77761644, 0.77761644, 0.77761644],\n",
       "          [0.7803922 , 0.7803922 , 0.7803922 ],\n",
       "          ...,\n",
       "          [0.12316506, 0.12316506, 0.12316506],\n",
       "          [0.13225411, 0.13225411, 0.13225411],\n",
       "          [0.1433741 , 0.1433741 , 0.1433741 ]],\n",
       " \n",
       "         [[0.77647066, 0.77647066, 0.77647066],\n",
       "          [0.7795796 , 0.7795796 , 0.7795796 ],\n",
       "          [0.7803922 , 0.7803922 , 0.7803922 ],\n",
       "          ...,\n",
       "          [0.13129796, 0.13129796, 0.13129796],\n",
       "          [0.12435881, 0.12435881, 0.12435881],\n",
       "          [0.12986659, 0.12986659, 0.12986659]],\n",
       " \n",
       "         [[0.7783313 , 0.7783313 , 0.7783313 ],\n",
       "          [0.7803922 , 0.7803922 , 0.7803922 ],\n",
       "          [0.7781903 , 0.7781903 , 0.7781903 ],\n",
       "          ...,\n",
       "          [0.13536586, 0.13536586, 0.13536586],\n",
       "          [0.13249171, 0.13249171, 0.13249171],\n",
       "          [0.12555256, 0.12555256, 0.12555256]]],\n",
       " \n",
       " \n",
       "        [[[0.04037996, 0.04037996, 0.04037996],\n",
       "          [0.03871342, 0.03871342, 0.03871342],\n",
       "          [0.03704688, 0.03704688, 0.03704688],\n",
       "          ...,\n",
       "          [0.0565071 , 0.0565071 , 0.0565071 ],\n",
       "          [0.0352061 , 0.0352061 , 0.0352061 ],\n",
       "          [0.02056791, 0.02056791, 0.02056791]],\n",
       " \n",
       "         [[0.03529412, 0.03529412, 0.03529412],\n",
       "          [0.03529412, 0.03529412, 0.03529412],\n",
       "          [0.03529412, 0.03529412, 0.03529412],\n",
       "          ...,\n",
       "          [0.05741349, 0.05741349, 0.05741349],\n",
       "          [0.0377135 , 0.0377135 , 0.0377135 ],\n",
       "          [0.02050836, 0.02050836, 0.02050836]],\n",
       " \n",
       "         [[0.03379747, 0.03379747, 0.03379747],\n",
       "          [0.0329642 , 0.0329642 , 0.0329642 ],\n",
       "          [0.03213092, 0.03213092, 0.03213092],\n",
       "          ...,\n",
       "          [0.05575642, 0.05575642, 0.05575642],\n",
       "          [0.03785285, 0.03785285, 0.03785285],\n",
       "          [0.0195546 , 0.0195546 , 0.0195546 ]],\n",
       " \n",
       "         ...,\n",
       " \n",
       "         [[0.        , 0.        , 0.        ],\n",
       "          [0.        , 0.        , 0.        ],\n",
       "          [0.        , 0.        , 0.        ],\n",
       "          ...,\n",
       "          [0.68870413, 0.68870413, 0.68870413],\n",
       "          [0.6934521 , 0.6934521 , 0.6934521 ],\n",
       "          [0.69798106, 0.69798106, 0.69798106]],\n",
       " \n",
       "         [[0.        , 0.        , 0.        ],\n",
       "          [0.        , 0.        , 0.        ],\n",
       "          [0.        , 0.        , 0.        ],\n",
       "          ...,\n",
       "          [0.69182134, 0.69182134, 0.69182134],\n",
       "          [0.6918935 , 0.6918935 , 0.6918935 ],\n",
       "          [0.6972018 , 0.6972018 , 0.6972018 ]],\n",
       " \n",
       "         [[0.        , 0.        , 0.        ],\n",
       "          [0.        , 0.        , 0.        ],\n",
       "          [0.        , 0.        , 0.        ],\n",
       "          ...,\n",
       "          [0.6949386 , 0.6949386 , 0.6949386 ],\n",
       "          [0.6903348 , 0.6903348 , 0.6903348 ],\n",
       "          [0.6964224 , 0.6964224 , 0.6964224 ]]]], dtype=float32),\n",
       " array([[0., 0., 1.],\n",
       "        [0., 0., 1.],\n",
       "        [0., 1., 0.],\n",
       "        [0., 0., 1.],\n",
       "        [0., 0., 1.],\n",
       "        [0., 0., 1.],\n",
       "        [0., 0., 1.],\n",
       "        [0., 0., 1.],\n",
       "        [0., 1., 0.],\n",
       "        [1., 0., 0.],\n",
       "        [0., 1., 0.],\n",
       "        [0., 0., 1.],\n",
       "        [0., 1., 0.],\n",
       "        [0., 0., 1.],\n",
       "        [0., 0., 1.],\n",
       "        [0., 0., 1.],\n",
       "        [0., 0., 1.],\n",
       "        [0., 1., 0.],\n",
       "        [0., 0., 1.],\n",
       "        [0., 0., 1.],\n",
       "        [0., 0., 1.],\n",
       "        [0., 0., 1.],\n",
       "        [0., 0., 1.],\n",
       "        [0., 0., 1.],\n",
       "        [0., 1., 0.],\n",
       "        [0., 0., 1.],\n",
       "        [0., 0., 1.],\n",
       "        [0., 0., 1.],\n",
       "        [0., 1., 0.],\n",
       "        [1., 0., 0.],\n",
       "        [0., 0., 1.],\n",
       "        [0., 0., 1.]], dtype=float32))"
      ]
     },
     "execution_count": 17,
     "metadata": {},
     "output_type": "execute_result"
    }
   ],
   "source": [
    "train_generator[0]"
   ]
  },
  {
   "cell_type": "code",
   "execution_count": 18,
   "id": "d667d43e-fadf-4465-8317-546bfd2dec36",
   "metadata": {},
   "outputs": [],
   "source": [
    "i, l = next(train_generator)"
   ]
  },
  {
   "cell_type": "code",
   "execution_count": 19,
   "id": "91889577-f90a-41f6-ab12-6628b720339e",
   "metadata": {},
   "outputs": [
    {
     "data": {
      "text/plain": [
       "<matplotlib.image.AxesImage at 0x1f8206b3cd0>"
      ]
     },
     "execution_count": 19,
     "metadata": {},
     "output_type": "execute_result"
    },
    {
     "data": {
      "image/png": "[encoded data removed]",
      "text/plain": [
       "<Figure size 640x480 with 1 Axes>"
      ]
     },
     "metadata": {},
     "output_type": "display_data"
    }
   ],
   "source": [
    "plt.imshow(i[0])"
   ]
  },
  {
   "cell_type": "code",
   "execution_count": 20,
   "id": "96b5e918-7c21-4230-8783-e5a45b586a2a",
   "metadata": {},
   "outputs": [],
   "source": [
    "class_labels = train_generator.class_indices"
   ]
  },
  {
   "cell_type": "code",
   "execution_count": 21,
   "id": "3f7c1b02-c3d0-4a1b-bee4-b13f783ab51d",
   "metadata": {},
   "outputs": [
    {
     "data": {
      "text/plain": [
       "{'COVID19': 0, 'NORMAL': 1, 'PNEUMONIA': 2}"
      ]
     },
     "execution_count": 21,
     "metadata": {},
     "output_type": "execute_result"
    }
   ],
   "source": [
    "class_labels "
   ]
  },
  {
   "cell_type": "code",
   "execution_count": 23,
   "id": "a6efc933-a046-4741-8f40-bcd7521135e9",
   "metadata": {},
   "outputs": [],
   "source": [
    "input_layer = Input(shape=(128,128,3))\n",
    "\n",
    "conv_layer_1 = Conv2D(\n",
    "    filters = 2 ,\n",
    "    kernel_size = (3,3) ,\n",
    "    strides = 1 ,\n",
    "    padding = 'same'\n",
    ")(input_layer)\n",
    "\n",
    "conv_layer_2 = Conv2D(\n",
    "    filters = 3,\n",
    "    kernel_size = (2,2) ,\n",
    "    strides = 1 ,\n",
    "    padding = 'same'\n",
    ")(conv_layer_1)\n",
    "\n",
    "flatten_layer = Flatten()(conv_layer_2)\n",
    "\n",
    "output_layer = Dense(units=10, activation = 'softmax')(flatten_layer)"
   ]
  },
  {
   "cell_type": "code",
   "execution_count": 24,
   "id": "022ce355-cb3e-4e39-91ad-c6283f1380f0",
   "metadata": {},
   "outputs": [],
   "source": [
    "model = Model(input_layer,output_layer)"
   ]
  },
  {
   "cell_type": "code",
   "execution_count": 26,
   "id": "30a860e5-a9bf-4df6-9bc1-cd4ee37d8b1f",
   "metadata": {},
   "outputs": [
    {
     "data": {
      "text/html": [
       "<pre style=\"white-space:pre;overflow-x:auto;line-height:normal;font-family:Menlo,'DejaVu Sans Mono',consolas,'Courier New',monospace\"><span style=\"font-weight: bold\">Model: \"functional\"</span>\n",
       "</pre>\n"
      ],
      "text/plain": [
       "\u001b[1mModel: \"functional\"\u001b[0m\n"
      ]
     },
     "metadata": {},
     "output_type": "display_data"
    },
    {
     "data": {
      "text/html": [
       "<pre style=\"white-space:pre;overflow-x:auto;line-height:normal;font-family:Menlo,'DejaVu Sans Mono',consolas,'Courier New',monospace\">┏━━━━━━━━━━━━━━━━━━━━━━━━━━━━━━━━━━━━━━┳━━━━━━━━━━━━━━━━━━━━━━━━━━━━━┳━━━━━━━━━━━━━━━━━┓\n",
       "┃<span style=\"font-weight: bold\"> Layer (type)                         </span>┃<span style=\"font-weight: bold\"> Output Shape                </span>┃<span style=\"font-weight: bold\">         Param # </span>┃\n",
       "┡━━━━━━━━━━━━━━━━━━━━━━━━━━━━━━━━━━━━━━╇━━━━━━━━━━━━━━━━━━━━━━━━━━━━━╇━━━━━━━━━━━━━━━━━┩\n",
       "│ input_layer_1 (<span style=\"color: #0087ff; text-decoration-color: #0087ff\">InputLayer</span>)           │ (<span style=\"color: #00d7ff; text-decoration-color: #00d7ff\">None</span>, <span style=\"color: #00af00; text-decoration-color: #00af00\">128</span>, <span style=\"color: #00af00; text-decoration-color: #00af00\">128</span>, <span style=\"color: #00af00; text-decoration-color: #00af00\">3</span>)         │               <span style=\"color: #00af00; text-decoration-color: #00af00\">0</span> │\n",
       "├──────────────────────────────────────┼─────────────────────────────┼─────────────────┤\n",
       "│ conv2d_2 (<span style=\"color: #0087ff; text-decoration-color: #0087ff\">Conv2D</span>)                    │ (<span style=\"color: #00d7ff; text-decoration-color: #00d7ff\">None</span>, <span style=\"color: #00af00; text-decoration-color: #00af00\">128</span>, <span style=\"color: #00af00; text-decoration-color: #00af00\">128</span>, <span style=\"color: #00af00; text-decoration-color: #00af00\">2</span>)         │              <span style=\"color: #00af00; text-decoration-color: #00af00\">56</span> │\n",
       "├──────────────────────────────────────┼─────────────────────────────┼─────────────────┤\n",
       "│ conv2d_3 (<span style=\"color: #0087ff; text-decoration-color: #0087ff\">Conv2D</span>)                    │ (<span style=\"color: #00d7ff; text-decoration-color: #00d7ff\">None</span>, <span style=\"color: #00af00; text-decoration-color: #00af00\">128</span>, <span style=\"color: #00af00; text-decoration-color: #00af00\">128</span>, <span style=\"color: #00af00; text-decoration-color: #00af00\">3</span>)         │              <span style=\"color: #00af00; text-decoration-color: #00af00\">27</span> │\n",
       "├──────────────────────────────────────┼─────────────────────────────┼─────────────────┤\n",
       "│ flatten_1 (<span style=\"color: #0087ff; text-decoration-color: #0087ff\">Flatten</span>)                  │ (<span style=\"color: #00d7ff; text-decoration-color: #00d7ff\">None</span>, <span style=\"color: #00af00; text-decoration-color: #00af00\">49152</span>)               │               <span style=\"color: #00af00; text-decoration-color: #00af00\">0</span> │\n",
       "├──────────────────────────────────────┼─────────────────────────────┼─────────────────┤\n",
       "│ dense (<span style=\"color: #0087ff; text-decoration-color: #0087ff\">Dense</span>)                        │ (<span style=\"color: #00d7ff; text-decoration-color: #00d7ff\">None</span>, <span style=\"color: #00af00; text-decoration-color: #00af00\">10</span>)                  │         <span style=\"color: #00af00; text-decoration-color: #00af00\">491,530</span> │\n",
       "└──────────────────────────────────────┴─────────────────────────────┴─────────────────┘\n",
       "</pre>\n"
      ],
      "text/plain": [
       "┏━━━━━━━━━━━━━━━━━━━━━━━━━━━━━━━━━━━━━━┳━━━━━━━━━━━━━━━━━━━━━━━━━━━━━┳━━━━━━━━━━━━━━━━━┓\n",
       "┃\u001b[1m \u001b[0m\u001b[1mLayer (type)                        \u001b[0m\u001b[1m \u001b[0m┃\u001b[1m \u001b[0m\u001b[1mOutput Shape               \u001b[0m\u001b[1m \u001b[0m┃\u001b[1m \u001b[0m\u001b[1m        Param #\u001b[0m\u001b[1m \u001b[0m┃\n",
       "┡━━━━━━━━━━━━━━━━━━━━━━━━━━━━━━━━━━━━━━╇━━━━━━━━━━━━━━━━━━━━━━━━━━━━━╇━━━━━━━━━━━━━━━━━┩\n",
       "│ input_layer_1 (\u001b[38;5;33mInputLayer\u001b[0m)           │ (\u001b[38;5;45mNone\u001b[0m, \u001b[38;5;34m128\u001b[0m, \u001b[38;5;34m128\u001b[0m, \u001b[38;5;34m3\u001b[0m)         │               \u001b[38;5;34m0\u001b[0m │\n",
       "├──────────────────────────────────────┼─────────────────────────────┼─────────────────┤\n",
       "│ conv2d_2 (\u001b[38;5;33mConv2D\u001b[0m)                    │ (\u001b[38;5;45mNone\u001b[0m, \u001b[38;5;34m128\u001b[0m, \u001b[38;5;34m128\u001b[0m, \u001b[38;5;34m2\u001b[0m)         │              \u001b[38;5;34m56\u001b[0m │\n",
       "├──────────────────────────────────────┼─────────────────────────────┼─────────────────┤\n",
       "│ conv2d_3 (\u001b[38;5;33mConv2D\u001b[0m)                    │ (\u001b[38;5;45mNone\u001b[0m, \u001b[38;5;34m128\u001b[0m, \u001b[38;5;34m128\u001b[0m, \u001b[38;5;34m3\u001b[0m)         │              \u001b[38;5;34m27\u001b[0m │\n",
       "├──────────────────────────────────────┼─────────────────────────────┼─────────────────┤\n",
       "│ flatten_1 (\u001b[38;5;33mFlatten\u001b[0m)                  │ (\u001b[38;5;45mNone\u001b[0m, \u001b[38;5;34m49152\u001b[0m)               │               \u001b[38;5;34m0\u001b[0m │\n",
       "├──────────────────────────────────────┼─────────────────────────────┼─────────────────┤\n",
       "│ dense (\u001b[38;5;33mDense\u001b[0m)                        │ (\u001b[38;5;45mNone\u001b[0m, \u001b[38;5;34m10\u001b[0m)                  │         \u001b[38;5;34m491,530\u001b[0m │\n",
       "└──────────────────────────────────────┴─────────────────────────────┴─────────────────┘\n"
      ]
     },
     "metadata": {},
     "output_type": "display_data"
    },
    {
     "data": {
      "text/html": [
       "<pre style=\"white-space:pre;overflow-x:auto;line-height:normal;font-family:Menlo,'DejaVu Sans Mono',consolas,'Courier New',monospace\"><span style=\"font-weight: bold\"> Total params: </span><span style=\"color: #00af00; text-decoration-color: #00af00\">491,613</span> (1.88 MB)\n",
       "</pre>\n"
      ],
      "text/plain": [
       "\u001b[1m Total params: \u001b[0m\u001b[38;5;34m491,613\u001b[0m (1.88 MB)\n"
      ]
     },
     "metadata": {},
     "output_type": "display_data"
    },
    {
     "data": {
      "text/html": [
       "<pre style=\"white-space:pre;overflow-x:auto;line-height:normal;font-family:Menlo,'DejaVu Sans Mono',consolas,'Courier New',monospace\"><span style=\"font-weight: bold\"> Trainable params: </span><span style=\"color: #00af00; text-decoration-color: #00af00\">491,613</span> (1.88 MB)\n",
       "</pre>\n"
      ],
      "text/plain": [
       "\u001b[1m Trainable params: \u001b[0m\u001b[38;5;34m491,613\u001b[0m (1.88 MB)\n"
      ]
     },
     "metadata": {},
     "output_type": "display_data"
    },
    {
     "data": {
      "text/html": [
       "<pre style=\"white-space:pre;overflow-x:auto;line-height:normal;font-family:Menlo,'DejaVu Sans Mono',consolas,'Courier New',monospace\"><span style=\"font-weight: bold\"> Non-trainable params: </span><span style=\"color: #00af00; text-decoration-color: #00af00\">0</span> (0.00 B)\n",
       "</pre>\n"
      ],
      "text/plain": [
       "\u001b[1m Non-trainable params: \u001b[0m\u001b[38;5;34m0\u001b[0m (0.00 B)\n"
      ]
     },
     "metadata": {},
     "output_type": "display_data"
    }
   ],
   "source": [
    "model.summary()"
   ]
  },
  {
   "cell_type": "code",
   "execution_count": 28,
   "id": "ae3fd486-2b2a-43ab-898c-f548ae986c67",
   "metadata": {},
   "outputs": [],
   "source": [
    "opt = Adam(learning_rate=0.005)\n",
    "\n",
    "model.compile(loss='categorical_crossentropy',optimizer=opt, metrics=['accuracy'])  "
   ]
  },
  {
   "cell_type": "code",
   "execution_count": null,
   "id": "4ca26f7f-d35d-495c-828a-ecbb378e63eb",
   "metadata": {},
   "outputs": [],
   "source": []
  }
 ],
 "metadata": {
  "kernelspec": {
   "display_name": "Python 3 (ipykernel)",
   "language": "python",
   "name": "python3"
  },
  "language_info": {
   "codemirror_mode": {
    "name": "ipython",
    "version": 3
   },
   "file_extension": ".py",
   "mimetype": "text/x-python",
   "name": "python",
   "nbconvert_exporter": "python",
   "pygments_lexer": "ipython3",
   "version": "3.11.7"
  }
 },
 "nbformat": 4,
 "nbformat_minor": 5
}
