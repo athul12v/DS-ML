{
 "cells": [
  {
   "cell_type": "code",
   "execution_count": 61,
   "id": "74c636cf-62ca-4334-81d1-a54450c97dd5",
   "metadata": {},
   "outputs": [],
   "source": [
    "import numpy as np\n",
    "import pandas as pd\n",
    "import matplotlib.pyplot as plt\n",
    "import seaborn as sns\n",
    "\n",
    "from sklearn.preprocessing import LabelEncoder,StandardScaler;\n",
    "from sklearn.model_selection import train_test_split\n",
    "from sklearn.cluster import KMeans\n",
    "from sklearn.linear_model import LinearRegression\n",
    "from sklearn.linear_model import LogisticRegression\n",
    "from sklearn.tree import DecisionTreeClassifier\n",
    "from sklearn.ensemble import RandomForestClassifier\n",
    "from sklearn import svm\n",
    "from sklearn.metrics import accuracy_score\n",
    "from sklearn.metrics import mean_squared_error,r2_score"
   ]
  },
  {
   "cell_type": "code",
   "execution_count": 62,
   "id": "ebb384b6-4862-46e7-b1a9-1597616829ac",
   "metadata": {},
   "outputs": [],
   "source": [
    "df = pd.read_csv(\"D:/Datasets/15_7_2024/adult.csv/adult.csv\")"
   ]
  },
  {
   "cell_type": "code",
   "execution_count": 163,
   "id": "b81abadd-f223-4639-a5d4-2d7e13eeab61",
   "metadata": {},
   "outputs": [
    {
     "data": {
      "text/html": [
       "<div>\n",
       "<style scoped>\n",
       "    .dataframe tbody tr th:only-of-type {\n",
       "        vertical-align: middle;\n",
       "    }\n",
       "\n",
       "    .dataframe tbody tr th {\n",
       "        vertical-align: top;\n",
       "    }\n",
       "\n",
       "    .dataframe thead th {\n",
       "        text-align: right;\n",
       "    }\n",
       "</style>\n",
       "<table border=\"1\" class=\"dataframe\">\n",
       "  <thead>\n",
       "    <tr style=\"text-align: right;\">\n",
       "      <th></th>\n",
       "      <th>age</th>\n",
       "      <th>workclass</th>\n",
       "      <th>fnlwgt</th>\n",
       "      <th>education</th>\n",
       "      <th>education.num</th>\n",
       "      <th>marital.status</th>\n",
       "      <th>occupation</th>\n",
       "      <th>relationship</th>\n",
       "      <th>race</th>\n",
       "      <th>sex</th>\n",
       "      <th>capital.gain</th>\n",
       "      <th>capital.loss</th>\n",
       "      <th>hours.per.week</th>\n",
       "      <th>native.country</th>\n",
       "      <th>income</th>\n",
       "      <th>continent</th>\n",
       "    </tr>\n",
       "  </thead>\n",
       "  <tbody>\n",
       "    <tr>\n",
       "      <th>0</th>\n",
       "      <td>90</td>\n",
       "      <td>?</td>\n",
       "      <td>77053</td>\n",
       "      <td>HS-grad</td>\n",
       "      <td>9</td>\n",
       "      <td>Widowed</td>\n",
       "      <td>?</td>\n",
       "      <td>Not-in-family</td>\n",
       "      <td>White</td>\n",
       "      <td>-1.422331</td>\n",
       "      <td>0</td>\n",
       "      <td>4356</td>\n",
       "      <td>40</td>\n",
       "      <td>United-States</td>\n",
       "      <td>&lt;=50K</td>\n",
       "      <td>North America</td>\n",
       "    </tr>\n",
       "    <tr>\n",
       "      <th>1</th>\n",
       "      <td>82</td>\n",
       "      <td>Private</td>\n",
       "      <td>132870</td>\n",
       "      <td>HS-grad</td>\n",
       "      <td>9</td>\n",
       "      <td>Widowed</td>\n",
       "      <td>Exec-managerial</td>\n",
       "      <td>Not-in-family</td>\n",
       "      <td>White</td>\n",
       "      <td>-1.422331</td>\n",
       "      <td>0</td>\n",
       "      <td>4356</td>\n",
       "      <td>18</td>\n",
       "      <td>United-States</td>\n",
       "      <td>&lt;=50K</td>\n",
       "      <td>North America</td>\n",
       "    </tr>\n",
       "    <tr>\n",
       "      <th>2</th>\n",
       "      <td>66</td>\n",
       "      <td>?</td>\n",
       "      <td>186061</td>\n",
       "      <td>Some-college</td>\n",
       "      <td>10</td>\n",
       "      <td>Widowed</td>\n",
       "      <td>?</td>\n",
       "      <td>Unmarried</td>\n",
       "      <td>Black</td>\n",
       "      <td>-1.422331</td>\n",
       "      <td>0</td>\n",
       "      <td>4356</td>\n",
       "      <td>40</td>\n",
       "      <td>United-States</td>\n",
       "      <td>&lt;=50K</td>\n",
       "      <td>North America</td>\n",
       "    </tr>\n",
       "    <tr>\n",
       "      <th>3</th>\n",
       "      <td>54</td>\n",
       "      <td>Private</td>\n",
       "      <td>140359</td>\n",
       "      <td>7th-8th</td>\n",
       "      <td>4</td>\n",
       "      <td>Divorced</td>\n",
       "      <td>Machine-op-inspct</td>\n",
       "      <td>Unmarried</td>\n",
       "      <td>White</td>\n",
       "      <td>-1.422331</td>\n",
       "      <td>0</td>\n",
       "      <td>3900</td>\n",
       "      <td>40</td>\n",
       "      <td>United-States</td>\n",
       "      <td>&lt;=50K</td>\n",
       "      <td>North America</td>\n",
       "    </tr>\n",
       "    <tr>\n",
       "      <th>4</th>\n",
       "      <td>41</td>\n",
       "      <td>Private</td>\n",
       "      <td>264663</td>\n",
       "      <td>Some-college</td>\n",
       "      <td>10</td>\n",
       "      <td>Separated</td>\n",
       "      <td>Prof-specialty</td>\n",
       "      <td>Own-child</td>\n",
       "      <td>White</td>\n",
       "      <td>-1.422331</td>\n",
       "      <td>0</td>\n",
       "      <td>3900</td>\n",
       "      <td>40</td>\n",
       "      <td>United-States</td>\n",
       "      <td>&lt;=50K</td>\n",
       "      <td>North America</td>\n",
       "    </tr>\n",
       "    <tr>\n",
       "      <th>5</th>\n",
       "      <td>34</td>\n",
       "      <td>Private</td>\n",
       "      <td>216864</td>\n",
       "      <td>HS-grad</td>\n",
       "      <td>9</td>\n",
       "      <td>Divorced</td>\n",
       "      <td>Other-service</td>\n",
       "      <td>Unmarried</td>\n",
       "      <td>White</td>\n",
       "      <td>-1.422331</td>\n",
       "      <td>0</td>\n",
       "      <td>3770</td>\n",
       "      <td>45</td>\n",
       "      <td>United-States</td>\n",
       "      <td>&lt;=50K</td>\n",
       "      <td>North America</td>\n",
       "    </tr>\n",
       "    <tr>\n",
       "      <th>6</th>\n",
       "      <td>38</td>\n",
       "      <td>Private</td>\n",
       "      <td>150601</td>\n",
       "      <td>10th</td>\n",
       "      <td>6</td>\n",
       "      <td>Separated</td>\n",
       "      <td>Adm-clerical</td>\n",
       "      <td>Unmarried</td>\n",
       "      <td>White</td>\n",
       "      <td>0.703071</td>\n",
       "      <td>0</td>\n",
       "      <td>3770</td>\n",
       "      <td>40</td>\n",
       "      <td>United-States</td>\n",
       "      <td>&lt;=50K</td>\n",
       "      <td>North America</td>\n",
       "    </tr>\n",
       "    <tr>\n",
       "      <th>7</th>\n",
       "      <td>74</td>\n",
       "      <td>State-gov</td>\n",
       "      <td>88638</td>\n",
       "      <td>Doctorate</td>\n",
       "      <td>16</td>\n",
       "      <td>Never-married</td>\n",
       "      <td>Prof-specialty</td>\n",
       "      <td>Other-relative</td>\n",
       "      <td>White</td>\n",
       "      <td>-1.422331</td>\n",
       "      <td>0</td>\n",
       "      <td>3683</td>\n",
       "      <td>20</td>\n",
       "      <td>United-States</td>\n",
       "      <td>&gt;50K</td>\n",
       "      <td>North America</td>\n",
       "    </tr>\n",
       "    <tr>\n",
       "      <th>8</th>\n",
       "      <td>68</td>\n",
       "      <td>Federal-gov</td>\n",
       "      <td>422013</td>\n",
       "      <td>HS-grad</td>\n",
       "      <td>9</td>\n",
       "      <td>Divorced</td>\n",
       "      <td>Prof-specialty</td>\n",
       "      <td>Not-in-family</td>\n",
       "      <td>White</td>\n",
       "      <td>-1.422331</td>\n",
       "      <td>0</td>\n",
       "      <td>3683</td>\n",
       "      <td>40</td>\n",
       "      <td>United-States</td>\n",
       "      <td>&lt;=50K</td>\n",
       "      <td>North America</td>\n",
       "    </tr>\n",
       "    <tr>\n",
       "      <th>9</th>\n",
       "      <td>41</td>\n",
       "      <td>Private</td>\n",
       "      <td>70037</td>\n",
       "      <td>Some-college</td>\n",
       "      <td>10</td>\n",
       "      <td>Never-married</td>\n",
       "      <td>Craft-repair</td>\n",
       "      <td>Unmarried</td>\n",
       "      <td>White</td>\n",
       "      <td>0.703071</td>\n",
       "      <td>0</td>\n",
       "      <td>3004</td>\n",
       "      <td>60</td>\n",
       "      <td>?</td>\n",
       "      <td>&gt;50K</td>\n",
       "      <td>UNKNOWN</td>\n",
       "    </tr>\n",
       "    <tr>\n",
       "      <th>10</th>\n",
       "      <td>45</td>\n",
       "      <td>Private</td>\n",
       "      <td>172274</td>\n",
       "      <td>Doctorate</td>\n",
       "      <td>16</td>\n",
       "      <td>Divorced</td>\n",
       "      <td>Prof-specialty</td>\n",
       "      <td>Unmarried</td>\n",
       "      <td>Black</td>\n",
       "      <td>-1.422331</td>\n",
       "      <td>0</td>\n",
       "      <td>3004</td>\n",
       "      <td>35</td>\n",
       "      <td>United-States</td>\n",
       "      <td>&gt;50K</td>\n",
       "      <td>North America</td>\n",
       "    </tr>\n",
       "    <tr>\n",
       "      <th>11</th>\n",
       "      <td>38</td>\n",
       "      <td>Self-emp-not-inc</td>\n",
       "      <td>164526</td>\n",
       "      <td>Prof-school</td>\n",
       "      <td>15</td>\n",
       "      <td>Never-married</td>\n",
       "      <td>Prof-specialty</td>\n",
       "      <td>Not-in-family</td>\n",
       "      <td>White</td>\n",
       "      <td>0.703071</td>\n",
       "      <td>0</td>\n",
       "      <td>2824</td>\n",
       "      <td>45</td>\n",
       "      <td>United-States</td>\n",
       "      <td>&gt;50K</td>\n",
       "      <td>North America</td>\n",
       "    </tr>\n",
       "    <tr>\n",
       "      <th>12</th>\n",
       "      <td>52</td>\n",
       "      <td>Private</td>\n",
       "      <td>129177</td>\n",
       "      <td>Bachelors</td>\n",
       "      <td>13</td>\n",
       "      <td>Widowed</td>\n",
       "      <td>Other-service</td>\n",
       "      <td>Not-in-family</td>\n",
       "      <td>White</td>\n",
       "      <td>-1.422331</td>\n",
       "      <td>0</td>\n",
       "      <td>2824</td>\n",
       "      <td>20</td>\n",
       "      <td>United-States</td>\n",
       "      <td>&gt;50K</td>\n",
       "      <td>North America</td>\n",
       "    </tr>\n",
       "    <tr>\n",
       "      <th>13</th>\n",
       "      <td>32</td>\n",
       "      <td>Private</td>\n",
       "      <td>136204</td>\n",
       "      <td>Masters</td>\n",
       "      <td>14</td>\n",
       "      <td>Separated</td>\n",
       "      <td>Exec-managerial</td>\n",
       "      <td>Not-in-family</td>\n",
       "      <td>White</td>\n",
       "      <td>0.703071</td>\n",
       "      <td>0</td>\n",
       "      <td>2824</td>\n",
       "      <td>55</td>\n",
       "      <td>United-States</td>\n",
       "      <td>&gt;50K</td>\n",
       "      <td>North America</td>\n",
       "    </tr>\n",
       "    <tr>\n",
       "      <th>14</th>\n",
       "      <td>51</td>\n",
       "      <td>?</td>\n",
       "      <td>172175</td>\n",
       "      <td>Doctorate</td>\n",
       "      <td>16</td>\n",
       "      <td>Never-married</td>\n",
       "      <td>?</td>\n",
       "      <td>Not-in-family</td>\n",
       "      <td>White</td>\n",
       "      <td>0.703071</td>\n",
       "      <td>0</td>\n",
       "      <td>2824</td>\n",
       "      <td>40</td>\n",
       "      <td>United-States</td>\n",
       "      <td>&gt;50K</td>\n",
       "      <td>North America</td>\n",
       "    </tr>\n",
       "  </tbody>\n",
       "</table>\n",
       "</div>"
      ],
      "text/plain": [
       "    age         workclass  fnlwgt     education  education.num marital.status  \\\n",
       "0    90                 ?   77053       HS-grad              9        Widowed   \n",
       "1    82           Private  132870       HS-grad              9        Widowed   \n",
       "2    66                 ?  186061  Some-college             10        Widowed   \n",
       "3    54           Private  140359       7th-8th              4       Divorced   \n",
       "4    41           Private  264663  Some-college             10      Separated   \n",
       "5    34           Private  216864       HS-grad              9       Divorced   \n",
       "6    38           Private  150601          10th              6      Separated   \n",
       "7    74         State-gov   88638     Doctorate             16  Never-married   \n",
       "8    68       Federal-gov  422013       HS-grad              9       Divorced   \n",
       "9    41           Private   70037  Some-college             10  Never-married   \n",
       "10   45           Private  172274     Doctorate             16       Divorced   \n",
       "11   38  Self-emp-not-inc  164526   Prof-school             15  Never-married   \n",
       "12   52           Private  129177     Bachelors             13        Widowed   \n",
       "13   32           Private  136204       Masters             14      Separated   \n",
       "14   51                 ?  172175     Doctorate             16  Never-married   \n",
       "\n",
       "           occupation    relationship   race       sex  capital.gain  \\\n",
       "0                   ?   Not-in-family  White -1.422331             0   \n",
       "1     Exec-managerial   Not-in-family  White -1.422331             0   \n",
       "2                   ?       Unmarried  Black -1.422331             0   \n",
       "3   Machine-op-inspct       Unmarried  White -1.422331             0   \n",
       "4      Prof-specialty       Own-child  White -1.422331             0   \n",
       "5       Other-service       Unmarried  White -1.422331             0   \n",
       "6        Adm-clerical       Unmarried  White  0.703071             0   \n",
       "7      Prof-specialty  Other-relative  White -1.422331             0   \n",
       "8      Prof-specialty   Not-in-family  White -1.422331             0   \n",
       "9        Craft-repair       Unmarried  White  0.703071             0   \n",
       "10     Prof-specialty       Unmarried  Black -1.422331             0   \n",
       "11     Prof-specialty   Not-in-family  White  0.703071             0   \n",
       "12      Other-service   Not-in-family  White -1.422331             0   \n",
       "13    Exec-managerial   Not-in-family  White  0.703071             0   \n",
       "14                  ?   Not-in-family  White  0.703071             0   \n",
       "\n",
       "    capital.loss  hours.per.week native.country income      continent  \n",
       "0           4356              40  United-States  <=50K  North America  \n",
       "1           4356              18  United-States  <=50K  North America  \n",
       "2           4356              40  United-States  <=50K  North America  \n",
       "3           3900              40  United-States  <=50K  North America  \n",
       "4           3900              40  United-States  <=50K  North America  \n",
       "5           3770              45  United-States  <=50K  North America  \n",
       "6           3770              40  United-States  <=50K  North America  \n",
       "7           3683              20  United-States   >50K  North America  \n",
       "8           3683              40  United-States  <=50K  North America  \n",
       "9           3004              60              ?   >50K        UNKNOWN  \n",
       "10          3004              35  United-States   >50K  North America  \n",
       "11          2824              45  United-States   >50K  North America  \n",
       "12          2824              20  United-States   >50K  North America  \n",
       "13          2824              55  United-States   >50K  North America  \n",
       "14          2824              40  United-States   >50K  North America  "
      ]
     },
     "execution_count": 163,
     "metadata": {},
     "output_type": "execute_result"
    }
   ],
   "source": [
    "df.head(15)"
   ]
  },
  {
   "cell_type": "code",
   "execution_count": 12,
   "id": "77184a81-a126-49c8-a63c-e23b04880657",
   "metadata": {},
   "outputs": [
    {
     "data": {
      "text/html": [
       "<div>\n",
       "<style scoped>\n",
       "    .dataframe tbody tr th:only-of-type {\n",
       "        vertical-align: middle;\n",
       "    }\n",
       "\n",
       "    .dataframe tbody tr th {\n",
       "        vertical-align: top;\n",
       "    }\n",
       "\n",
       "    .dataframe thead th {\n",
       "        text-align: right;\n",
       "    }\n",
       "</style>\n",
       "<table border=\"1\" class=\"dataframe\">\n",
       "  <thead>\n",
       "    <tr style=\"text-align: right;\">\n",
       "      <th></th>\n",
       "      <th>age</th>\n",
       "      <th>workclass</th>\n",
       "      <th>fnlwgt</th>\n",
       "      <th>education</th>\n",
       "      <th>education.num</th>\n",
       "      <th>marital.status</th>\n",
       "      <th>occupation</th>\n",
       "      <th>relationship</th>\n",
       "      <th>race</th>\n",
       "      <th>sex</th>\n",
       "      <th>capital.gain</th>\n",
       "      <th>capital.loss</th>\n",
       "      <th>hours.per.week</th>\n",
       "      <th>native.country</th>\n",
       "      <th>income</th>\n",
       "    </tr>\n",
       "  </thead>\n",
       "  <tbody>\n",
       "    <tr>\n",
       "      <th>32551</th>\n",
       "      <td>43</td>\n",
       "      <td>Self-emp-not-inc</td>\n",
       "      <td>27242</td>\n",
       "      <td>Some-college</td>\n",
       "      <td>10</td>\n",
       "      <td>Married-civ-spouse</td>\n",
       "      <td>Craft-repair</td>\n",
       "      <td>Husband</td>\n",
       "      <td>White</td>\n",
       "      <td>Male</td>\n",
       "      <td>0</td>\n",
       "      <td>0</td>\n",
       "      <td>50</td>\n",
       "      <td>United-States</td>\n",
       "      <td>&lt;=50K</td>\n",
       "    </tr>\n",
       "    <tr>\n",
       "      <th>32552</th>\n",
       "      <td>32</td>\n",
       "      <td>Private</td>\n",
       "      <td>34066</td>\n",
       "      <td>10th</td>\n",
       "      <td>6</td>\n",
       "      <td>Married-civ-spouse</td>\n",
       "      <td>Handlers-cleaners</td>\n",
       "      <td>Husband</td>\n",
       "      <td>Amer-Indian-Eskimo</td>\n",
       "      <td>Male</td>\n",
       "      <td>0</td>\n",
       "      <td>0</td>\n",
       "      <td>40</td>\n",
       "      <td>United-States</td>\n",
       "      <td>&lt;=50K</td>\n",
       "    </tr>\n",
       "    <tr>\n",
       "      <th>32553</th>\n",
       "      <td>43</td>\n",
       "      <td>Private</td>\n",
       "      <td>84661</td>\n",
       "      <td>Assoc-voc</td>\n",
       "      <td>11</td>\n",
       "      <td>Married-civ-spouse</td>\n",
       "      <td>Sales</td>\n",
       "      <td>Husband</td>\n",
       "      <td>White</td>\n",
       "      <td>Male</td>\n",
       "      <td>0</td>\n",
       "      <td>0</td>\n",
       "      <td>45</td>\n",
       "      <td>United-States</td>\n",
       "      <td>&lt;=50K</td>\n",
       "    </tr>\n",
       "    <tr>\n",
       "      <th>32554</th>\n",
       "      <td>32</td>\n",
       "      <td>Private</td>\n",
       "      <td>116138</td>\n",
       "      <td>Masters</td>\n",
       "      <td>14</td>\n",
       "      <td>Never-married</td>\n",
       "      <td>Tech-support</td>\n",
       "      <td>Not-in-family</td>\n",
       "      <td>Asian-Pac-Islander</td>\n",
       "      <td>Male</td>\n",
       "      <td>0</td>\n",
       "      <td>0</td>\n",
       "      <td>11</td>\n",
       "      <td>Taiwan</td>\n",
       "      <td>&lt;=50K</td>\n",
       "    </tr>\n",
       "    <tr>\n",
       "      <th>32555</th>\n",
       "      <td>53</td>\n",
       "      <td>Private</td>\n",
       "      <td>321865</td>\n",
       "      <td>Masters</td>\n",
       "      <td>14</td>\n",
       "      <td>Married-civ-spouse</td>\n",
       "      <td>Exec-managerial</td>\n",
       "      <td>Husband</td>\n",
       "      <td>White</td>\n",
       "      <td>Male</td>\n",
       "      <td>0</td>\n",
       "      <td>0</td>\n",
       "      <td>40</td>\n",
       "      <td>United-States</td>\n",
       "      <td>&gt;50K</td>\n",
       "    </tr>\n",
       "    <tr>\n",
       "      <th>32556</th>\n",
       "      <td>22</td>\n",
       "      <td>Private</td>\n",
       "      <td>310152</td>\n",
       "      <td>Some-college</td>\n",
       "      <td>10</td>\n",
       "      <td>Never-married</td>\n",
       "      <td>Protective-serv</td>\n",
       "      <td>Not-in-family</td>\n",
       "      <td>White</td>\n",
       "      <td>Male</td>\n",
       "      <td>0</td>\n",
       "      <td>0</td>\n",
       "      <td>40</td>\n",
       "      <td>United-States</td>\n",
       "      <td>&lt;=50K</td>\n",
       "    </tr>\n",
       "    <tr>\n",
       "      <th>32557</th>\n",
       "      <td>27</td>\n",
       "      <td>Private</td>\n",
       "      <td>257302</td>\n",
       "      <td>Assoc-acdm</td>\n",
       "      <td>12</td>\n",
       "      <td>Married-civ-spouse</td>\n",
       "      <td>Tech-support</td>\n",
       "      <td>Wife</td>\n",
       "      <td>White</td>\n",
       "      <td>Female</td>\n",
       "      <td>0</td>\n",
       "      <td>0</td>\n",
       "      <td>38</td>\n",
       "      <td>United-States</td>\n",
       "      <td>&lt;=50K</td>\n",
       "    </tr>\n",
       "    <tr>\n",
       "      <th>32558</th>\n",
       "      <td>40</td>\n",
       "      <td>Private</td>\n",
       "      <td>154374</td>\n",
       "      <td>HS-grad</td>\n",
       "      <td>9</td>\n",
       "      <td>Married-civ-spouse</td>\n",
       "      <td>Machine-op-inspct</td>\n",
       "      <td>Husband</td>\n",
       "      <td>White</td>\n",
       "      <td>Male</td>\n",
       "      <td>0</td>\n",
       "      <td>0</td>\n",
       "      <td>40</td>\n",
       "      <td>United-States</td>\n",
       "      <td>&gt;50K</td>\n",
       "    </tr>\n",
       "    <tr>\n",
       "      <th>32559</th>\n",
       "      <td>58</td>\n",
       "      <td>Private</td>\n",
       "      <td>151910</td>\n",
       "      <td>HS-grad</td>\n",
       "      <td>9</td>\n",
       "      <td>Widowed</td>\n",
       "      <td>Adm-clerical</td>\n",
       "      <td>Unmarried</td>\n",
       "      <td>White</td>\n",
       "      <td>Female</td>\n",
       "      <td>0</td>\n",
       "      <td>0</td>\n",
       "      <td>40</td>\n",
       "      <td>United-States</td>\n",
       "      <td>&lt;=50K</td>\n",
       "    </tr>\n",
       "    <tr>\n",
       "      <th>32560</th>\n",
       "      <td>22</td>\n",
       "      <td>Private</td>\n",
       "      <td>201490</td>\n",
       "      <td>HS-grad</td>\n",
       "      <td>9</td>\n",
       "      <td>Never-married</td>\n",
       "      <td>Adm-clerical</td>\n",
       "      <td>Own-child</td>\n",
       "      <td>White</td>\n",
       "      <td>Male</td>\n",
       "      <td>0</td>\n",
       "      <td>0</td>\n",
       "      <td>20</td>\n",
       "      <td>United-States</td>\n",
       "      <td>&lt;=50K</td>\n",
       "    </tr>\n",
       "  </tbody>\n",
       "</table>\n",
       "</div>"
      ],
      "text/plain": [
       "       age         workclass  fnlwgt     education  education.num  \\\n",
       "32551   43  Self-emp-not-inc   27242  Some-college             10   \n",
       "32552   32           Private   34066          10th              6   \n",
       "32553   43           Private   84661     Assoc-voc             11   \n",
       "32554   32           Private  116138       Masters             14   \n",
       "32555   53           Private  321865       Masters             14   \n",
       "32556   22           Private  310152  Some-college             10   \n",
       "32557   27           Private  257302    Assoc-acdm             12   \n",
       "32558   40           Private  154374       HS-grad              9   \n",
       "32559   58           Private  151910       HS-grad              9   \n",
       "32560   22           Private  201490       HS-grad              9   \n",
       "\n",
       "           marital.status         occupation   relationship  \\\n",
       "32551  Married-civ-spouse       Craft-repair        Husband   \n",
       "32552  Married-civ-spouse  Handlers-cleaners        Husband   \n",
       "32553  Married-civ-spouse              Sales        Husband   \n",
       "32554       Never-married       Tech-support  Not-in-family   \n",
       "32555  Married-civ-spouse    Exec-managerial        Husband   \n",
       "32556       Never-married    Protective-serv  Not-in-family   \n",
       "32557  Married-civ-spouse       Tech-support           Wife   \n",
       "32558  Married-civ-spouse  Machine-op-inspct        Husband   \n",
       "32559             Widowed       Adm-clerical      Unmarried   \n",
       "32560       Never-married       Adm-clerical      Own-child   \n",
       "\n",
       "                     race     sex  capital.gain  capital.loss  hours.per.week  \\\n",
       "32551               White    Male             0             0              50   \n",
       "32552  Amer-Indian-Eskimo    Male             0             0              40   \n",
       "32553               White    Male             0             0              45   \n",
       "32554  Asian-Pac-Islander    Male             0             0              11   \n",
       "32555               White    Male             0             0              40   \n",
       "32556               White    Male             0             0              40   \n",
       "32557               White  Female             0             0              38   \n",
       "32558               White    Male             0             0              40   \n",
       "32559               White  Female             0             0              40   \n",
       "32560               White    Male             0             0              20   \n",
       "\n",
       "      native.country income  \n",
       "32551  United-States  <=50K  \n",
       "32552  United-States  <=50K  \n",
       "32553  United-States  <=50K  \n",
       "32554         Taiwan  <=50K  \n",
       "32555  United-States   >50K  \n",
       "32556  United-States  <=50K  \n",
       "32557  United-States  <=50K  \n",
       "32558  United-States   >50K  \n",
       "32559  United-States  <=50K  \n",
       "32560  United-States  <=50K  "
      ]
     },
     "execution_count": 12,
     "metadata": {},
     "output_type": "execute_result"
    }
   ],
   "source": [
    "df.tail(10)"
   ]
  },
  {
   "cell_type": "code",
   "execution_count": 13,
   "id": "514ffb14-8914-40da-a81d-999b946191df",
   "metadata": {},
   "outputs": [
    {
     "name": "stdout",
     "output_type": "stream",
     "text": [
      "<class 'pandas.core.frame.DataFrame'>\n",
      "RangeIndex: 32561 entries, 0 to 32560\n",
      "Data columns (total 15 columns):\n",
      " #   Column          Non-Null Count  Dtype \n",
      "---  ------          --------------  ----- \n",
      " 0   age             32561 non-null  int64 \n",
      " 1   workclass       32561 non-null  object\n",
      " 2   fnlwgt          32561 non-null  int64 \n",
      " 3   education       32561 non-null  object\n",
      " 4   education.num   32561 non-null  int64 \n",
      " 5   marital.status  32561 non-null  object\n",
      " 6   occupation      32561 non-null  object\n",
      " 7   relationship    32561 non-null  object\n",
      " 8   race            32561 non-null  object\n",
      " 9   sex             32561 non-null  object\n",
      " 10  capital.gain    32561 non-null  int64 \n",
      " 11  capital.loss    32561 non-null  int64 \n",
      " 12  hours.per.week  32561 non-null  int64 \n",
      " 13  native.country  32561 non-null  object\n",
      " 14  income          32561 non-null  object\n",
      "dtypes: int64(6), object(9)\n",
      "memory usage: 3.7+ MB\n"
     ]
    }
   ],
   "source": [
    "df.info()"
   ]
  },
  {
   "cell_type": "code",
   "execution_count": 14,
   "id": "93d12d02-e635-42a3-ac70-a8cfaa84492a",
   "metadata": {},
   "outputs": [
    {
     "data": {
      "text/plain": [
       "age               0\n",
       "workclass         0\n",
       "fnlwgt            0\n",
       "education         0\n",
       "education.num     0\n",
       "marital.status    0\n",
       "occupation        0\n",
       "relationship      0\n",
       "race              0\n",
       "sex               0\n",
       "capital.gain      0\n",
       "capital.loss      0\n",
       "hours.per.week    0\n",
       "native.country    0\n",
       "income            0\n",
       "dtype: int64"
      ]
     },
     "execution_count": 14,
     "metadata": {},
     "output_type": "execute_result"
    }
   ],
   "source": [
    "df.isnull().sum()"
   ]
  },
  {
   "cell_type": "code",
   "execution_count": 15,
   "id": "0379a61a-c135-4420-a266-754cf0a580c6",
   "metadata": {},
   "outputs": [
    {
     "data": {
      "text/plain": [
       "<bound method Series.info of 0        0\n",
       "1        0\n",
       "2        0\n",
       "3        0\n",
       "4        0\n",
       "        ..\n",
       "32556    0\n",
       "32557    0\n",
       "32558    0\n",
       "32559    0\n",
       "32560    0\n",
       "Name: capital.gain, Length: 32561, dtype: int64>"
      ]
     },
     "execution_count": 15,
     "metadata": {},
     "output_type": "execute_result"
    }
   ],
   "source": [
    "df['capital.gain'].info"
   ]
  },
  {
   "cell_type": "code",
   "execution_count": 16,
   "id": "f287dec4-ba91-4c8e-9a38-25cd6a5fd011",
   "metadata": {},
   "outputs": [
    {
     "data": {
      "text/plain": [
       "capital.gain\n",
       "0        29849\n",
       "15024      347\n",
       "7688       284\n",
       "7298       246\n",
       "99999      159\n",
       "         ...  \n",
       "1111         1\n",
       "4931         1\n",
       "7978         1\n",
       "5060         1\n",
       "2538         1\n",
       "Name: count, Length: 119, dtype: int64"
      ]
     },
     "execution_count": 16,
     "metadata": {},
     "output_type": "execute_result"
    }
   ],
   "source": [
    "df['capital.gain'].value_counts()"
   ]
  },
  {
   "cell_type": "code",
   "execution_count": 75,
   "id": "31630a52-c1ac-4771-93b4-8547703718e2",
   "metadata": {},
   "outputs": [],
   "source": [
    "newcap_gain = df['capital.gain']"
   ]
  },
  {
   "cell_type": "code",
   "execution_count": 10,
   "id": "b585d56f-c266-4f7b-a636-47264f079328",
   "metadata": {},
   "outputs": [
    {
     "data": {
      "text/plain": [
       "capital.gain\n",
       "0        29849\n",
       "15024      347\n",
       "7688       284\n",
       "7298       246\n",
       "99999      159\n",
       "         ...  \n",
       "1111         1\n",
       "4931         1\n",
       "7978         1\n",
       "5060         1\n",
       "2538         1\n",
       "Name: count, Length: 119, dtype: int64"
      ]
     },
     "execution_count": 10,
     "metadata": {},
     "output_type": "execute_result"
    }
   ],
   "source": [
    "newcap_gain.value_counts()"
   ]
  },
  {
   "cell_type": "code",
   "execution_count": 11,
   "id": "3d882528-b154-4737-99ad-941532d6c456",
   "metadata": {},
   "outputs": [
    {
     "data": {
      "text/plain": [
       "0    0\n",
       "1    0\n",
       "2    0\n",
       "3    0\n",
       "4    0\n",
       "Name: capital.gain, dtype: int64"
      ]
     },
     "execution_count": 11,
     "metadata": {},
     "output_type": "execute_result"
    }
   ],
   "source": [
    "newcap_gain.head()"
   ]
  },
  {
   "cell_type": "code",
   "execution_count": 12,
   "id": "dc3d437a-e845-4075-afc3-50b20a42c10a",
   "metadata": {},
   "outputs": [],
   "source": [
    "cg_great = newcap_gain>0"
   ]
  },
  {
   "cell_type": "code",
   "execution_count": 18,
   "id": "ed783fc7-5e5c-4c1f-a18a-793da6cadaee",
   "metadata": {},
   "outputs": [
    {
     "data": {
      "text/plain": [
       "0    False\n",
       "1    False\n",
       "2    False\n",
       "3    False\n",
       "4    False\n",
       "Name: capital.gain, dtype: bool"
      ]
     },
     "execution_count": 18,
     "metadata": {},
     "output_type": "execute_result"
    }
   ],
   "source": [
    "cg_great.head()"
   ]
  },
  {
   "cell_type": "code",
   "execution_count": 19,
   "id": "9e5bb064-8974-4612-aa15-e331f0f84a7f",
   "metadata": {},
   "outputs": [],
   "source": [
    "# calculating the percentage"
   ]
  },
  {
   "cell_type": "code",
   "execution_count": 20,
   "id": "5b968d24-30cc-4d54-b269-135b26252d2b",
   "metadata": {},
   "outputs": [],
   "source": [
    "cg_per = (newcap_gain/32560)*100"
   ]
  },
  {
   "cell_type": "code",
   "execution_count": 21,
   "id": "30f7e07e-f226-43cc-9804-eb1dfe1564c7",
   "metadata": {},
   "outputs": [],
   "source": [
    "# percentage of individuals who have a capital-gain greater than 0."
   ]
  },
  {
   "cell_type": "code",
   "execution_count": 22,
   "id": "ee0ebb54-d7ff-49a2-a1c3-7f52d0c9ab27",
   "metadata": {},
   "outputs": [
    {
     "data": {
      "text/plain": [
       "capital.gain\n",
       "0.000000      29849\n",
       "46.142506       347\n",
       "23.611794       284\n",
       "22.414005       246\n",
       "307.122236      159\n",
       "              ...  \n",
       "3.412162          1\n",
       "15.144349         1\n",
       "24.502457         1\n",
       "15.540541         1\n",
       "7.794840          1\n",
       "Name: count, Length: 119, dtype: int64"
      ]
     },
     "execution_count": 22,
     "metadata": {},
     "output_type": "execute_result"
    }
   ],
   "source": [
    "cg_per.value_counts()"
   ]
  },
  {
   "cell_type": "code",
   "execution_count": null,
   "id": "ed3563e3-5e9a-44c7-836e-6bd243488915",
   "metadata": {},
   "outputs": [],
   "source": [
    "# Calculate the proportion of each marital-status category within the dataset"
   ]
  },
  {
   "cell_type": "code",
   "execution_count": 107,
   "id": "70f814f1-37e6-4706-bf41-261299c2bee5",
   "metadata": {},
   "outputs": [
    {
     "data": {
      "text/plain": [
       "marital.status\n",
       "2    14976\n",
       "4    10683\n",
       "0     4443\n",
       "5     1025\n",
       "6      993\n",
       "3      418\n",
       "1       23\n",
       "Name: count, dtype: int64"
      ]
     },
     "execution_count": 107,
     "metadata": {},
     "output_type": "execute_result"
    }
   ],
   "source": [
    "df['marital.status'].value_counts()"
   ]
  },
  {
   "cell_type": "code",
   "execution_count": 108,
   "id": "7bf2c175-9ee9-4257-bb6b-aba11f0b946a",
   "metadata": {},
   "outputs": [],
   "source": [
    "newmarital = df['marital.status']"
   ]
  },
  {
   "cell_type": "code",
   "execution_count": 109,
   "id": "2fe0d03b-6716-4686-85af-3fcfa119860b",
   "metadata": {},
   "outputs": [
    {
     "data": {
      "text/plain": [
       "0    6\n",
       "1    6\n",
       "2    6\n",
       "3    0\n",
       "4    5\n",
       "Name: marital.status, dtype: int32"
      ]
     },
     "execution_count": 109,
     "metadata": {},
     "output_type": "execute_result"
    }
   ],
   "source": [
    "newmarital.head()"
   ]
  },
  {
   "cell_type": "code",
   "execution_count": 101,
   "id": "1b82edef-6606-4ee2-aad3-f88f140ebfe7",
   "metadata": {},
   "outputs": [],
   "source": [
    "le=LabelEncoder()"
   ]
  },
  {
   "cell_type": "code",
   "execution_count": 104,
   "id": "552b736b-3ebd-463a-926e-f21b9c83b6cf",
   "metadata": {},
   "outputs": [],
   "source": [
    "df['marital.status']=le.fit_transform(df['marital.status'])"
   ]
  },
  {
   "cell_type": "code",
   "execution_count": 106,
   "id": "e3c0a65c-81d3-4983-a632-db8672bbc14d",
   "metadata": {},
   "outputs": [
    {
     "data": {
      "text/plain": [
       "marital.status\n",
       "2    14976\n",
       "4    10683\n",
       "0     4443\n",
       "5     1025\n",
       "6      993\n",
       "3      418\n",
       "1       23\n",
       "Name: count, dtype: int64"
      ]
     },
     "execution_count": 106,
     "metadata": {},
     "output_type": "execute_result"
    }
   ],
   "source": [
    "df['marital.status'].value_counts()"
   ]
  },
  {
   "cell_type": "code",
   "execution_count": 113,
   "id": "5f113fac-b8cb-4aec-ac8d-ddeb08993fdd",
   "metadata": {},
   "outputs": [
    {
     "data": {
      "text/plain": [
       "85044"
      ]
     },
     "execution_count": 113,
     "metadata": {},
     "output_type": "execute_result"
    }
   ],
   "source": [
    "newmarital.sum()"
   ]
  },
  {
   "cell_type": "code",
   "execution_count": 115,
   "id": "82f070fc-7159-4d84-a224-5c1344bacbb8",
   "metadata": {},
   "outputs": [],
   "source": [
    "mar_propo = (newmarital/newmarital.sum())*100"
   ]
  },
  {
   "cell_type": "code",
   "execution_count": null,
   "id": "25a9f912-dddb-4398-a1b2-f4044e147510",
   "metadata": {},
   "outputs": [],
   "source": [
    "# proportion of each marital-status"
   ]
  },
  {
   "cell_type": "code",
   "execution_count": 119,
   "id": "7467c44e-3b0f-4c06-b1a2-83a41f611017",
   "metadata": {},
   "outputs": [
    {
     "data": {
      "text/plain": [
       "0    0.007055\n",
       "1    0.007055\n",
       "2    0.007055\n",
       "3    0.000000\n",
       "4    0.005879\n",
       "5    0.000000\n",
       "6    0.005879\n",
       "7    0.004703\n",
       "8    0.000000\n",
       "9    0.004703\n",
       "Name: marital.status, dtype: float64"
      ]
     },
     "execution_count": 119,
     "metadata": {},
     "output_type": "execute_result"
    }
   ],
   "source": [
    "mar_propo.head(10)"
   ]
  },
  {
   "cell_type": "code",
   "execution_count": null,
   "id": "2afb2c0a-fde3-43c3-b616-20c03e12ca04",
   "metadata": {},
   "outputs": [],
   "source": [
    "# Find the top 5 most common native-country entries."
   ]
  },
  {
   "cell_type": "code",
   "execution_count": 124,
   "id": "b1c71326-0243-47c2-aaca-396bd1116741",
   "metadata": {},
   "outputs": [
    {
     "data": {
      "text/plain": [
       "native.country\n",
       "United-States    29170\n",
       "Mexico             643\n",
       "?                  583\n",
       "Philippines        198\n",
       "Germany            137\n",
       "Name: count, dtype: int64"
      ]
     },
     "execution_count": 124,
     "metadata": {},
     "output_type": "execute_result"
    }
   ],
   "source": [
    "df['native.country'].value_counts().head()"
   ]
  },
  {
   "cell_type": "code",
   "execution_count": 23,
   "id": "914f42cd-fd3c-4076-a7d4-0baadf3f4c62",
   "metadata": {},
   "outputs": [],
   "source": [
    "# Compute the total hours-per-week worked by individuals in the occupation 'Exec-managerial'."
   ]
  },
  {
   "cell_type": "code",
   "execution_count": 24,
   "id": "5bbd71dc-1a77-4a06-99b4-039a5146c69e",
   "metadata": {},
   "outputs": [
    {
     "data": {
      "text/plain": [
       "occupation\n",
       "Prof-specialty       4140\n",
       "Craft-repair         4099\n",
       "Exec-managerial      4066\n",
       "Adm-clerical         3770\n",
       "Sales                3650\n",
       "Other-service        3295\n",
       "Machine-op-inspct    2002\n",
       "?                    1843\n",
       "Transport-moving     1597\n",
       "Handlers-cleaners    1370\n",
       "Farming-fishing       994\n",
       "Tech-support          928\n",
       "Protective-serv       649\n",
       "Priv-house-serv       149\n",
       "Armed-Forces            9\n",
       "Name: count, dtype: int64"
      ]
     },
     "execution_count": 24,
     "metadata": {},
     "output_type": "execute_result"
    }
   ],
   "source": [
    "df['occupation'].value_counts()"
   ]
  },
  {
   "cell_type": "code",
   "execution_count": 25,
   "id": "3af277d9-5fb8-455b-9b4d-d79cdef1ab5a",
   "metadata": {},
   "outputs": [],
   "source": [
    "df['execManagerial'] = df['occupation']=='Exec-managerial'"
   ]
  },
  {
   "cell_type": "code",
   "execution_count": 26,
   "id": "ed38e82f-d248-4ac5-a102-c8781b6baa65",
   "metadata": {},
   "outputs": [
    {
     "data": {
      "text/plain": [
       "0    False\n",
       "1     True\n",
       "2    False\n",
       "3    False\n",
       "4    False\n",
       "Name: execManagerial, dtype: bool"
      ]
     },
     "execution_count": 26,
     "metadata": {},
     "output_type": "execute_result"
    }
   ],
   "source": [
    "df['execManagerial'].head()"
   ]
  },
  {
   "cell_type": "code",
   "execution_count": 27,
   "id": "f73ae315-614e-47ad-9297-51b6ed9e37db",
   "metadata": {},
   "outputs": [],
   "source": [
    "newdf = df['execManagerial'],df['hours.per.week']"
   ]
  },
  {
   "cell_type": "code",
   "execution_count": 28,
   "id": "4c2a58c6-d0c8-4081-bc88-5b45f3c1cfc1",
   "metadata": {},
   "outputs": [
    {
     "data": {
      "text/plain": [
       "(0        False\n",
       " 1         True\n",
       " 2        False\n",
       " 3        False\n",
       " 4        False\n",
       "          ...  \n",
       " 32556    False\n",
       " 32557    False\n",
       " 32558    False\n",
       " 32559    False\n",
       " 32560    False\n",
       " Name: execManagerial, Length: 32561, dtype: bool,\n",
       " 0        40\n",
       " 1        18\n",
       " 2        40\n",
       " 3        40\n",
       " 4        40\n",
       "          ..\n",
       " 32556    40\n",
       " 32557    38\n",
       " 32558    40\n",
       " 32559    40\n",
       " 32560    20\n",
       " Name: hours.per.week, Length: 32561, dtype: int64)"
      ]
     },
     "execution_count": 28,
     "metadata": {},
     "output_type": "execute_result"
    }
   ],
   "source": [
    "newdf"
   ]
  },
  {
   "cell_type": "code",
   "execution_count": 76,
   "id": "cacbb3e2-5125-4e22-92d4-71940c1247c7",
   "metadata": {},
   "outputs": [],
   "source": [
    "# Create a new column age_range that categorizes age into ranges: '18-30', '31-45', '46-60',# '61+'."
   ]
  },
  {
   "cell_type": "code",
   "execution_count": 77,
   "id": "9a63eb41-db98-49d2-b4c2-3785af149a00",
   "metadata": {},
   "outputs": [],
   "source": [
    "def category_range(age):\n",
    "    if age>=18 and age<=30:\n",
    "        return '18-30'\n",
    "    elif age>=31 and age<=45:\n",
    "        return '31-45'\n",
    "    elif age>=46 and age<=60:\n",
    "        return '46-60'\n",
    "    else:\n",
    "        return '61+'"
   ]
  },
  {
   "cell_type": "code",
   "execution_count": 78,
   "id": "36b27d0b-d83a-4a0f-8498-86f41af7173a",
   "metadata": {},
   "outputs": [],
   "source": [
    "df['age_range'] = df['age'].apply(category_range)"
   ]
  },
  {
   "cell_type": "code",
   "execution_count": 79,
   "id": "f70e650b-94a9-4e91-b498-18aee5b7bb75",
   "metadata": {},
   "outputs": [
    {
     "data": {
      "text/plain": [
       "0       61+\n",
       "1       61+\n",
       "2       61+\n",
       "3     46-60\n",
       "4     31-45\n",
       "5     31-45\n",
       "6     31-45\n",
       "7       61+\n",
       "8       61+\n",
       "9     31-45\n",
       "10    31-45\n",
       "11    31-45\n",
       "12    46-60\n",
       "13    31-45\n",
       "14    46-60\n",
       "15    46-60\n",
       "16    31-45\n",
       "17    46-60\n",
       "18    18-30\n",
       "19    31-45\n",
       "Name: age_range, dtype: object"
      ]
     },
     "execution_count": 79,
     "metadata": {},
     "output_type": "execute_result"
    }
   ],
   "source": [
    "df['age_range'].head(20)"
   ]
  },
  {
   "cell_type": "code",
   "execution_count": 80,
   "id": "7d222fd5-1dc9-43aa-8514-2c1476a59e94",
   "metadata": {},
   "outputs": [],
   "source": [
    "# Determine the average fnlwgt value for individuals with education-num greater than 10."
   ]
  },
  {
   "cell_type": "code",
   "execution_count": 81,
   "id": "26a4c2b2-52fb-4f80-b88a-6a81f02297ae",
   "metadata": {},
   "outputs": [],
   "source": [
    "eduNum_great = df['education.num']>10"
   ]
  },
  {
   "cell_type": "code",
   "execution_count": 82,
   "id": "ee6570a5-9697-498d-aed3-8f334ed2264f",
   "metadata": {},
   "outputs": [
    {
     "data": {
      "text/plain": [
       "0        False\n",
       "1        False\n",
       "2        False\n",
       "3        False\n",
       "4        False\n",
       "         ...  \n",
       "32556    False\n",
       "32557     True\n",
       "32558    False\n",
       "32559    False\n",
       "32560    False\n",
       "Name: education.num, Length: 32561, dtype: bool"
      ]
     },
     "execution_count": 82,
     "metadata": {},
     "output_type": "execute_result"
    }
   ],
   "source": [
    "eduNum_great"
   ]
  },
  {
   "cell_type": "code",
   "execution_count": 83,
   "id": "8cff353e-91f9-4169-8965-3d6ec9d61c8d",
   "metadata": {},
   "outputs": [],
   "source": [
    "avg_fnlwgt = df['fnlwgt'].mean()"
   ]
  },
  {
   "cell_type": "code",
   "execution_count": 84,
   "id": "c0ed3ac9-5b7b-47e8-b505-31312dd9b2bf",
   "metadata": {},
   "outputs": [
    {
     "data": {
      "text/html": [
       "<div>\n",
       "<style scoped>\n",
       "    .dataframe tbody tr th:only-of-type {\n",
       "        vertical-align: middle;\n",
       "    }\n",
       "\n",
       "    .dataframe tbody tr th {\n",
       "        vertical-align: top;\n",
       "    }\n",
       "\n",
       "    .dataframe thead th {\n",
       "        text-align: right;\n",
       "    }\n",
       "</style>\n",
       "<table border=\"1\" class=\"dataframe\">\n",
       "  <thead>\n",
       "    <tr style=\"text-align: right;\">\n",
       "      <th></th>\n",
       "      <th>eduNum_great</th>\n",
       "    </tr>\n",
       "  </thead>\n",
       "  <tbody>\n",
       "    <tr>\n",
       "      <th>0</th>\n",
       "      <td>True</td>\n",
       "    </tr>\n",
       "  </tbody>\n",
       "</table>\n",
       "</div>"
      ],
      "text/plain": [
       "   eduNum_great\n",
       "0          True"
      ]
     },
     "execution_count": 84,
     "metadata": {},
     "output_type": "execute_result"
    }
   ],
   "source": [
    " pd.get_dummies('eduNum_great')"
   ]
  },
  {
   "cell_type": "code",
   "execution_count": 85,
   "id": "3d56adad-d9c2-4a89-83ff-12b49bc558aa",
   "metadata": {},
   "outputs": [
    {
     "data": {
      "text/plain": [
       "education.num\n",
       "False    22045\n",
       "True     10516\n",
       "Name: count, dtype: int64"
      ]
     },
     "execution_count": 85,
     "metadata": {},
     "output_type": "execute_result"
    }
   ],
   "source": [
    "eduNum_great.value_counts()"
   ]
  },
  {
   "cell_type": "code",
   "execution_count": 86,
   "id": "139ce99c-52cc-4b6a-98b8-b37293851648",
   "metadata": {},
   "outputs": [
    {
     "name": "stdout",
     "output_type": "stream",
     "text": [
      "189778.36651208502 0        False\n",
      "1        False\n",
      "2        False\n",
      "3        False\n",
      "4        False\n",
      "         ...  \n",
      "32556    False\n",
      "32557     True\n",
      "32558    False\n",
      "32559    False\n",
      "32560    False\n",
      "Name: education.num, Length: 32561, dtype: bool\n"
     ]
    }
   ],
   "source": [
    "print(avg_fnlwgt,eduNum_great)"
   ]
  },
  {
   "cell_type": "code",
   "execution_count": 87,
   "id": "0963d594-9523-44cf-8bbe-d9e10710f9b5",
   "metadata": {},
   "outputs": [],
   "source": [
    "# Calculate the ratio of males to females in the dataset."
   ]
  },
  {
   "cell_type": "code",
   "execution_count": 88,
   "id": "e193a794-e067-4326-8bbf-e6bb6ef81acd",
   "metadata": {},
   "outputs": [
    {
     "data": {
      "text/plain": [
       "sex\n",
       "Male      21790\n",
       "Female    10771\n",
       "Name: count, dtype: int64"
      ]
     },
     "execution_count": 88,
     "metadata": {},
     "output_type": "execute_result"
    }
   ],
   "source": [
    "df['sex'].value_counts()"
   ]
  },
  {
   "cell_type": "code",
   "execution_count": 114,
   "id": "ec712e4a-dd30-4215-af93-9bd46bd15337",
   "metadata": {},
   "outputs": [],
   "source": [
    "#shape[0] is used to find the total count of the paticular value\n",
    "count_male = df[df['sex'] == 'Male'].shape[0]\n",
    "count_female = df[df['sex'] == 'Female'].shape[0]"
   ]
  },
  {
   "cell_type": "code",
   "execution_count": 115,
   "id": "2c965143-c2e4-4f4f-a056-67fccff63e3e",
   "metadata": {},
   "outputs": [
    {
     "data": {
      "text/plain": [
       "21790"
      ]
     },
     "execution_count": 115,
     "metadata": {},
     "output_type": "execute_result"
    }
   ],
   "source": [
    "count_male"
   ]
  },
  {
   "cell_type": "code",
   "execution_count": 116,
   "id": "98247948-5134-4dde-9d14-9b99f3fbb0fe",
   "metadata": {},
   "outputs": [
    {
     "data": {
      "text/plain": [
       "10771"
      ]
     },
     "execution_count": 116,
     "metadata": {},
     "output_type": "execute_result"
    }
   ],
   "source": [
    "count_female"
   ]
  },
  {
   "cell_type": "code",
   "execution_count": 117,
   "id": "b1f05ebe-63ef-4891-af8b-056f3c524100",
   "metadata": {},
   "outputs": [],
   "source": [
    "if count_female != 0:\n",
    "    ratio = count_male / count_female\n",
    "else:\n",
    "    ratio = None"
   ]
  },
  {
   "cell_type": "code",
   "execution_count": 120,
   "id": "7407e8fd-a00f-47c0-89ff-f16104b5ef8b",
   "metadata": {},
   "outputs": [
    {
     "name": "stdout",
     "output_type": "stream",
     "text": [
      "Number of males: 21790\n",
      "Number of females: 10771\n",
      "Ratio of males to females: 2.0230247887846997\n"
     ]
    }
   ],
   "source": [
    "print(f\"Number of males: {count_male}\")\n",
    "print(f\"Number of females: {count_female}\")\n",
    "\n",
    "print(f\"Ratio of males to females: {ratio}\")"
   ]
  },
  {
   "cell_type": "code",
   "execution_count": 132,
   "id": "65a06127-0698-42ab-ad80-251f29060922",
   "metadata": {},
   "outputs": [],
   "source": [
    "#Identify the education level with the highest average capital-loss."
   ]
  },
  {
   "cell_type": "code",
   "execution_count": 138,
   "id": "f7f6c579-b748-4349-91ab-9481ffe6558f",
   "metadata": {},
   "outputs": [],
   "source": [
    "avg_newCap = df.groupby('education')['capital.loss'].mean()"
   ]
  },
  {
   "cell_type": "code",
   "execution_count": 140,
   "id": "8552e6b6-3fdd-41ef-9cdd-2959a6f1cdb5",
   "metadata": {},
   "outputs": [
    {
     "name": "stdout",
     "output_type": "stream",
     "text": [
      "Highest Average: education\n",
      "10th             56.845659\n",
      "11th             50.079149\n",
      "12th             32.337182\n",
      "1st-4th          48.327381\n",
      "5th-6th          68.252252\n",
      "7th-8th          65.668731\n",
      "9th              28.998054\n",
      "Assoc-acdm       93.418932\n",
      "Assoc-voc        72.754703\n",
      "Bachelors       118.350327\n",
      "Doctorate       262.845036\n",
      "HS-grad          70.466622\n",
      "Masters         166.719675\n",
      "Preschool        66.490196\n",
      "Prof-school     231.203125\n",
      "Some-college     71.637087\n",
      "Name: capital.loss, dtype: float64\n"
     ]
    }
   ],
   "source": [
    "print(f\"Highest Average: {avg_newCap}\")"
   ]
  },
  {
   "cell_type": "code",
   "execution_count": 141,
   "id": "2ac400a5-8e6c-4961-ab21-8a8f2e9f3b39",
   "metadata": {},
   "outputs": [],
   "source": [
    "#Calculate the median 'age' for each 'workclass' category."
   ]
  },
  {
   "cell_type": "code",
   "execution_count": 142,
   "id": "0784a1d7-ce65-49ed-9b2c-4b3f87eeff5d",
   "metadata": {},
   "outputs": [],
   "source": [
    "medianAge = df.groupby('workclass')['age'].median()"
   ]
  },
  {
   "cell_type": "code",
   "execution_count": 146,
   "id": "295d1742-d0a0-441e-a647-b75a42dc152d",
   "metadata": {},
   "outputs": [
    {
     "name": "stdout",
     "output_type": "stream",
     "text": [
      "Median AGE by WORKCLASS:workclass\n",
      "?                   35.0\n",
      "Federal-gov         43.0\n",
      "Local-gov           41.0\n",
      "Never-worked        18.0\n",
      "Private             35.0\n",
      "Self-emp-inc        45.0\n",
      "Self-emp-not-inc    44.0\n",
      "State-gov           39.0\n",
      "Without-pay         57.0\n",
      "Name: age, dtype: float64\n"
     ]
    }
   ],
   "source": [
    "print(f\"Median AGE by WORKCLASS:{medianAge}\")"
   ]
  },
  {
   "cell_type": "code",
   "execution_count": 147,
   "id": "5794195a-c2af-4c7a-b662-be32bdc260e1",
   "metadata": {},
   "outputs": [],
   "source": [
    "#>50k"
   ]
  },
  {
   "cell_type": "code",
   "execution_count": 180,
   "id": "dedbd6da-0bee-4620-870e-30230619d9d3",
   "metadata": {},
   "outputs": [],
   "source": [
    "hig_income = df[df['income'] == '>50K']"
   ]
  },
  {
   "cell_type": "code",
   "execution_count": 186,
   "id": "b5f86594-ecea-42c2-9348-38138a87cfa3",
   "metadata": {},
   "outputs": [],
   "source": [
    "occu_perc = hig_income.groupby('occupation')['income'].count() / len(hig_income) * 100"
   ]
  },
  {
   "cell_type": "code",
   "execution_count": 187,
   "id": "3dda45be-1eb9-4221-bffe-03d8a2b01c27",
   "metadata": {},
   "outputs": [
    {
     "data": {
      "text/plain": [
       "occupation\n",
       "?                     5.660146\n",
       "Adm-clerical         11.578268\n",
       "Armed-Forces          0.027640\n",
       "Craft-repair         12.588680\n",
       "Exec-managerial      12.487331\n",
       "Farming-fishing       3.052732\n",
       "Handlers-cleaners     4.207487\n",
       "Machine-op-inspct     6.148460\n",
       "Other-service        10.119468\n",
       "Priv-house-serv       0.457603\n",
       "Prof-specialty       12.714597\n",
       "Protective-serv       1.993182\n",
       "Sales                11.209729\n",
       "Tech-support          2.850035\n",
       "Transport-moving      4.904641\n",
       "Name: income, dtype: float64"
      ]
     },
     "execution_count": 187,
     "metadata": {},
     "output_type": "execute_result"
    }
   ],
   "source": [
    "occu_perc"
   ]
  },
  {
   "cell_type": "code",
   "execution_count": 188,
   "id": "91e329db-0bb3-4f68-a39c-1037d2412f76",
   "metadata": {},
   "outputs": [],
   "source": [
    "#Find the number of individuals with hours-per-week equal to the maximum value in this column."
   ]
  },
  {
   "cell_type": "code",
   "execution_count": 189,
   "id": "67d49750-fa2f-4a62-bca8-dc071b00d082",
   "metadata": {},
   "outputs": [],
   "source": [
    "high_hour = df['hours.per.week'].max()"
   ]
  },
  {
   "cell_type": "code",
   "execution_count": 192,
   "id": "9038d0ea-fc14-4fb7-bbdd-b84d5ebca7bf",
   "metadata": {},
   "outputs": [],
   "source": [
    "count_hours = df[df['hours.per.week'] == high_hour].shape[0]"
   ]
  },
  {
   "cell_type": "code",
   "execution_count": 194,
   "id": "0c2946d2-ee5f-47ce-bddf-cf3bdcf40477",
   "metadata": {},
   "outputs": [
    {
     "name": "stdout",
     "output_type": "stream",
     "text": [
      "Number of individuals with 99 hours per week is: 85\n"
     ]
    }
   ],
   "source": [
    "print(f\"Number of individuals with {high_hour} hours per week is: {count_hours}\")"
   ]
  },
  {
   "cell_type": "code",
   "execution_count": 195,
   "id": "791b48f5-aaeb-41a9-abdb-c65dc201c95e",
   "metadata": {},
   "outputs": [],
   "source": [
    "#Create a boolean mask to filter out rows where 'native-country' is not 'United States' and then count these rows."
   ]
  },
  {
   "cell_type": "code",
   "execution_count": 196,
   "id": "ac0bc433-e4aa-4359-90bf-9b55eb80da7f",
   "metadata": {},
   "outputs": [
    {
     "data": {
      "text/plain": [
       "0        United-States\n",
       "1        United-States\n",
       "2        United-States\n",
       "3        United-States\n",
       "4        United-States\n",
       "             ...      \n",
       "32556    United-States\n",
       "32557    United-States\n",
       "32558    United-States\n",
       "32559    United-States\n",
       "32560    United-States\n",
       "Name: native.country, Length: 32561, dtype: object"
      ]
     },
     "execution_count": 196,
     "metadata": {},
     "output_type": "execute_result"
    }
   ],
   "source": [
    "df['native.country']"
   ]
  },
  {
   "cell_type": "code",
   "execution_count": 197,
   "id": "de211c26-20b7-4539-b233-14e659f69004",
   "metadata": {},
   "outputs": [],
   "source": [
    "native_notUS = df['native.country']!= 'United-States'"
   ]
  },
  {
   "cell_type": "code",
   "execution_count": 198,
   "id": "1e5ffd78-b4e0-4618-8664-1b1a8f1c594d",
   "metadata": {},
   "outputs": [
    {
     "data": {
      "text/plain": [
       "32561"
      ]
     },
     "execution_count": 198,
     "metadata": {},
     "output_type": "execute_result"
    }
   ],
   "source": [
    "len(native_notUS)"
   ]
  },
  {
   "cell_type": "code",
   "execution_count": 199,
   "id": "3824f9ff-d7e3-4a18-a1b2-328efe8c6d9b",
   "metadata": {},
   "outputs": [],
   "source": [
    "#Calculate the average hours-per-week for each combination of sex and marital-status."
   ]
  },
  {
   "cell_type": "code",
   "execution_count": 206,
   "id": "bac3dab2-3ddf-4c48-8b9c-dce7214cbeb1",
   "metadata": {},
   "outputs": [],
   "source": [
    "avg_hour = df.groupby(['sex', 'marital.status'])['hours.per.week'].mean()"
   ]
  },
  {
   "cell_type": "code",
   "execution_count": 207,
   "id": "8b776ea4-45d1-486e-a9bf-c507214be30f",
   "metadata": {},
   "outputs": [
    {
     "data": {
      "text/plain": [
       "sex     marital.status       \n",
       "Female  Divorced                 39.578967\n",
       "        Married-AF-spouse        31.214286\n",
       "        Married-civ-spouse       36.732649\n",
       "        Married-spouse-absent    37.078049\n",
       "        Never-married            35.010489\n",
       "        Separated                37.702060\n",
       "        Widowed                  32.523636\n",
       "Male    Divorced                 43.762846\n",
       "        Married-AF-spouse        56.555556\n",
       "        Married-civ-spouse       44.100008\n",
       "        Married-spouse-absent    42.164319\n",
       "        Never-married            38.494760\n",
       "        Separated                41.862944\n",
       "        Widowed                  35.220238\n",
       "Name: hours.per.week, dtype: float64"
      ]
     },
     "execution_count": 207,
     "metadata": {},
     "output_type": "execute_result"
    }
   ],
   "source": [
    "avg_hour"
   ]
  },
  {
   "cell_type": "code",
   "execution_count": 171,
   "id": "3d404153-98f7-40d5-98ab-0e56f193e463",
   "metadata": {},
   "outputs": [],
   "source": [
    "#Find the standard deviation of age for individuals with income of '>50K' compared to those with '<=50K'.\n",
    "\n",
    "\n",
    "\n",
    "#COMPARISON PENDING"
   ]
  },
  {
   "cell_type": "code",
   "execution_count": 18,
   "id": "f3694c05-907f-42d7-80c6-e63d321d96f4",
   "metadata": {},
   "outputs": [],
   "source": [
    "high_income = df[df['income'] == '>50K']\n",
    "low_income = df[df['income'] == '<=50K']"
   ]
  },
  {
   "cell_type": "code",
   "execution_count": 167,
   "id": "3741500c-2b34-4920-9431-0595a9ce184d",
   "metadata": {},
   "outputs": [],
   "source": [
    "# Calculate standard deviation for high-income individuals\n",
    "df['highIncome'] = high_income['age'].std()\n"
   ]
  },
  {
   "cell_type": "code",
   "execution_count": 168,
   "id": "915f19f7-110b-4a13-b757-707b26262dec",
   "metadata": {},
   "outputs": [
    {
     "data": {
      "text/plain": [
       "0        10.519028\n",
       "1        10.519028\n",
       "2        10.519028\n",
       "3        10.519028\n",
       "4        10.519028\n",
       "           ...    \n",
       "32556    10.519028\n",
       "32557    10.519028\n",
       "32558    10.519028\n",
       "32559    10.519028\n",
       "32560    10.519028\n",
       "Name: highIncome, Length: 32561, dtype: float64"
      ]
     },
     "execution_count": 168,
     "metadata": {},
     "output_type": "execute_result"
    }
   ],
   "source": [
    "df['highIncome'] "
   ]
  },
  {
   "cell_type": "code",
   "execution_count": 169,
   "id": "c43f690c-f5ce-40c3-9da8-1cedf49b184c",
   "metadata": {},
   "outputs": [],
   "source": [
    "df['low_income'] = low_income['age'].std()"
   ]
  },
  {
   "cell_type": "code",
   "execution_count": 170,
   "id": "fb32cdc4-b7c1-4802-a8e9-c89d3ff2a6bd",
   "metadata": {},
   "outputs": [
    {
     "data": {
      "text/plain": [
       "0        14.020088\n",
       "1        14.020088\n",
       "2        14.020088\n",
       "3        14.020088\n",
       "4        14.020088\n",
       "           ...    \n",
       "32556    14.020088\n",
       "32557    14.020088\n",
       "32558    14.020088\n",
       "32559    14.020088\n",
       "32560    14.020088\n",
       "Name: low_income, Length: 32561, dtype: float64"
      ]
     },
     "execution_count": 170,
     "metadata": {},
     "output_type": "execute_result"
    }
   ],
   "source": [
    "df['low_income']"
   ]
  },
  {
   "cell_type": "code",
   "execution_count": null,
   "id": "57eda497-5bdd-4aa8-9d94-a3de9c6ab1ff",
   "metadata": {},
   "outputs": [],
   "source": []
  },
  {
   "cell_type": "code",
   "execution_count": 20,
   "id": "a03d8ab7-9790-479d-aa55-646c32ee828c",
   "metadata": {},
   "outputs": [],
   "source": [
    "#lambda function to create a new column income_label that labels income as 'High' if '>50K' and 'Low' if '<=50K'."
   ]
  },
  {
   "cell_type": "code",
   "execution_count": 29,
   "id": "bdf9784d-e6b5-4f78-b88f-3f3d00abc53c",
   "metadata": {},
   "outputs": [],
   "source": [
    "df['high_incom'] = df['income'].apply(lambda x: 'HIGH' if x == '>50K' else 'LOW')"
   ]
  },
  {
   "cell_type": "code",
   "execution_count": 30,
   "id": "9513e80f-ade7-4036-8285-6fa4a93a4ba8",
   "metadata": {},
   "outputs": [
    {
     "data": {
      "text/plain": [
       "high_incom\n",
       "LOW     24720\n",
       "HIGH     7841\n",
       "Name: count, dtype: int64"
      ]
     },
     "execution_count": 30,
     "metadata": {},
     "output_type": "execute_result"
    }
   ],
   "source": [
    "df['high_incom'].value_counts()"
   ]
  },
  {
   "cell_type": "code",
   "execution_count": 33,
   "id": "7ba3134b-43d4-4783-8fa9-f91297f32344",
   "metadata": {},
   "outputs": [
    {
     "name": "stdout",
     "output_type": "stream",
     "text": [
      "<class 'pandas.core.frame.DataFrame'>\n",
      "RangeIndex: 32561 entries, 0 to 32560\n",
      "Data columns (total 16 columns):\n",
      " #   Column          Non-Null Count  Dtype \n",
      "---  ------          --------------  ----- \n",
      " 0   age             32561 non-null  int64 \n",
      " 1   workclass       32561 non-null  object\n",
      " 2   fnlwgt          32561 non-null  int64 \n",
      " 3   education       32561 non-null  object\n",
      " 4   education.num   32561 non-null  int64 \n",
      " 5   marital.status  32561 non-null  object\n",
      " 6   occupation      32561 non-null  object\n",
      " 7   relationship    32561 non-null  object\n",
      " 8   race            32561 non-null  object\n",
      " 9   sex             32561 non-null  object\n",
      " 10  capital.gain    32561 non-null  int64 \n",
      " 11  capital.loss    32561 non-null  int64 \n",
      " 12  hours.per.week  32561 non-null  int64 \n",
      " 13  native.country  32561 non-null  object\n",
      " 14  income          32561 non-null  object\n",
      " 15  high_incom      32561 non-null  object\n",
      "dtypes: int64(6), object(10)\n",
      "memory usage: 4.0+ MB\n"
     ]
    }
   ],
   "source": [
    "df.info()"
   ]
  },
  {
   "cell_type": "code",
   "execution_count": 34,
   "id": "bf7911b2-2415-437c-8463-ea948d3d0b4b",
   "metadata": {},
   "outputs": [],
   "source": [
    "# Group the DataFrame by race and sex and find the maximum capital-gain within each group."
   ]
  },
  {
   "cell_type": "code",
   "execution_count": 39,
   "id": "55cfb851-e629-45c2-b019-1ee124dcd0e4",
   "metadata": {},
   "outputs": [
    {
     "data": {
      "text/plain": [
       "race                sex   \n",
       "Amer-Indian-Eskimo  Female    15024\n",
       "                    Male      27828\n",
       "Asian-Pac-Islander  Female    99999\n",
       "                    Male      99999\n",
       "Black               Female    99999\n",
       "                    Male      99999\n",
       "Other               Female     7688\n",
       "                    Male      99999\n",
       "White               Female    99999\n",
       "                    Male      99999\n",
       "Name: capital.gain, dtype: int64"
      ]
     },
     "execution_count": 39,
     "metadata": {},
     "output_type": "execute_result"
    }
   ],
   "source": [
    "df.groupby(['race', 'sex'])['capital.gain'].max()"
   ]
  },
  {
   "cell_type": "code",
   "execution_count": 189,
   "id": "549844bc-efd3-498d-a559-49530ea0064d",
   "metadata": {},
   "outputs": [],
   "source": [
    "# LabelEncoding"
   ]
  },
  {
   "cell_type": "code",
   "execution_count": 190,
   "id": "f2d6a5a2-183f-46b2-ad24-f6fa9a55dd52",
   "metadata": {},
   "outputs": [],
   "source": [
    "le = LabelEncoder()"
   ]
  },
  {
   "cell_type": "code",
   "execution_count": 191,
   "id": "0e4bad31-1bcb-4fdf-90c8-2223d73ce3a4",
   "metadata": {},
   "outputs": [],
   "source": [
    "df['sex']=le.fit_transform(df['sex'])"
   ]
  },
  {
   "cell_type": "code",
   "execution_count": 192,
   "id": "44e312a6-b7a9-4d99-a644-e16936f67c80",
   "metadata": {},
   "outputs": [
    {
     "data": {
      "text/plain": [
       "0        0\n",
       "1        0\n",
       "2        0\n",
       "3        0\n",
       "4        0\n",
       "        ..\n",
       "32556    1\n",
       "32557    0\n",
       "32558    1\n",
       "32559    0\n",
       "32560    1\n",
       "Name: sex, Length: 32561, dtype: int64"
      ]
     },
     "execution_count": 192,
     "metadata": {},
     "output_type": "execute_result"
    }
   ],
   "source": [
    "df['sex']"
   ]
  },
  {
   "cell_type": "code",
   "execution_count": 193,
   "id": "6e2216f8-d543-410f-b59c-e38cf975e645",
   "metadata": {},
   "outputs": [],
   "source": [
    "# StandardScaler"
   ]
  },
  {
   "cell_type": "code",
   "execution_count": 194,
   "id": "de79bb99-6fa3-4a8f-80eb-2dce54b38278",
   "metadata": {},
   "outputs": [],
   "source": [
    "sc=StandardScaler()"
   ]
  },
  {
   "cell_type": "code",
   "execution_count": 195,
   "id": "51792017-bd9e-4495-ba12-03b087204e43",
   "metadata": {},
   "outputs": [],
   "source": [
    "df['sex']=sc.fit_transform(df['sex'].values.reshape(-1,1))"
   ]
  },
  {
   "cell_type": "code",
   "execution_count": null,
   "id": "783229d7-98bd-45d6-83a3-2deab4fbb008",
   "metadata": {},
   "outputs": [],
   "source": []
  },
  {
   "cell_type": "code",
   "execution_count": 196,
   "id": "1496443b-62f5-4809-b09a-efc3a587710d",
   "metadata": {},
   "outputs": [],
   "source": [
    "#K-MEANS CLUSTERING"
   ]
  },
  {
   "cell_type": "code",
   "execution_count": 197,
   "id": "3843e6b5-346f-4bc9-a4b1-c7113a3d575d",
   "metadata": {},
   "outputs": [],
   "source": [
    "x = df[['sex','hours.per.week']]"
   ]
  },
  {
   "cell_type": "code",
   "execution_count": null,
   "id": "2fd39653-cadd-4c22-aaaa-e219933b7e16",
   "metadata": {},
   "outputs": [],
   "source": []
  },
  {
   "cell_type": "code",
   "execution_count": 198,
   "id": "034d311b-aaf2-4650-9738-b0c3090374e6",
   "metadata": {},
   "outputs": [
    {
     "name": "stderr",
     "output_type": "stream",
     "text": [
      "C:\\Users\\athul\\anaconda3\\Lib\\site-packages\\sklearn\\cluster\\_kmeans.py:870: FutureWarning: The default value of `n_init` will change from 10 to 'auto' in 1.4. Set the value of `n_init` explicitly to suppress the warning\n",
      "  warnings.warn(\n",
      "C:\\Users\\athul\\anaconda3\\Lib\\site-packages\\sklearn\\cluster\\_kmeans.py:870: FutureWarning: The default value of `n_init` will change from 10 to 'auto' in 1.4. Set the value of `n_init` explicitly to suppress the warning\n",
      "  warnings.warn(\n",
      "C:\\Users\\athul\\anaconda3\\Lib\\site-packages\\sklearn\\cluster\\_kmeans.py:870: FutureWarning: The default value of `n_init` will change from 10 to 'auto' in 1.4. Set the value of `n_init` explicitly to suppress the warning\n",
      "  warnings.warn(\n",
      "C:\\Users\\athul\\anaconda3\\Lib\\site-packages\\sklearn\\cluster\\_kmeans.py:870: FutureWarning: The default value of `n_init` will change from 10 to 'auto' in 1.4. Set the value of `n_init` explicitly to suppress the warning\n",
      "  warnings.warn(\n",
      "C:\\Users\\athul\\anaconda3\\Lib\\site-packages\\sklearn\\cluster\\_kmeans.py:870: FutureWarning: The default value of `n_init` will change from 10 to 'auto' in 1.4. Set the value of `n_init` explicitly to suppress the warning\n",
      "  warnings.warn(\n",
      "C:\\Users\\athul\\anaconda3\\Lib\\site-packages\\sklearn\\cluster\\_kmeans.py:870: FutureWarning: The default value of `n_init` will change from 10 to 'auto' in 1.4. Set the value of `n_init` explicitly to suppress the warning\n",
      "  warnings.warn(\n",
      "C:\\Users\\athul\\anaconda3\\Lib\\site-packages\\sklearn\\cluster\\_kmeans.py:870: FutureWarning: The default value of `n_init` will change from 10 to 'auto' in 1.4. Set the value of `n_init` explicitly to suppress the warning\n",
      "  warnings.warn(\n",
      "C:\\Users\\athul\\anaconda3\\Lib\\site-packages\\sklearn\\cluster\\_kmeans.py:870: FutureWarning: The default value of `n_init` will change from 10 to 'auto' in 1.4. Set the value of `n_init` explicitly to suppress the warning\n",
      "  warnings.warn(\n",
      "C:\\Users\\athul\\anaconda3\\Lib\\site-packages\\sklearn\\cluster\\_kmeans.py:870: FutureWarning: The default value of `n_init` will change from 10 to 'auto' in 1.4. Set the value of `n_init` explicitly to suppress the warning\n",
      "  warnings.warn(\n",
      "C:\\Users\\athul\\anaconda3\\Lib\\site-packages\\sklearn\\cluster\\_kmeans.py:870: FutureWarning: The default value of `n_init` will change from 10 to 'auto' in 1.4. Set the value of `n_init` explicitly to suppress the warning\n",
      "  warnings.warn(\n"
     ]
    }
   ],
   "source": [
    "wcss=[]\n",
    "for i in range(1,11):\n",
    "    km=KMeans(n_clusters=i,init='k-means++',random_state=0)\n",
    "    km.fit(x)\n",
    "    wcss.append(km.inertia_)"
   ]
  },
  {
   "cell_type": "code",
   "execution_count": 199,
   "id": "b2f7bb0d-be6e-42e8-ac6c-fbc66091462b",
   "metadata": {},
   "outputs": [
    {
     "data": {
      "image/png": "[encoded data removed]",
      "text/plain": [
       "<Figure size 640x480 with 1 Axes>"
      ]
     },
     "metadata": {},
     "output_type": "display_data"
    }
   ],
   "source": [
    "plt.plot(range(1,11), wcss,marker=\".\")\n",
    "plt.title('The Elbow Method')\n",
    "plt.xlabel('no of clusters')\n",
    "plt.ylabel('wcss')\n",
    "plt.show()"
   ]
  },
  {
   "cell_type": "code",
   "execution_count": 200,
   "id": "3b416f01-45ca-43b2-9213-962b47530ee3",
   "metadata": {},
   "outputs": [],
   "source": [
    "km=KMeans(n_clusters=3,random_state=42)"
   ]
  },
  {
   "cell_type": "code",
   "execution_count": 201,
   "id": "b6b17149-7ffe-43ce-abe1-a90c41c31914",
   "metadata": {},
   "outputs": [
    {
     "name": "stderr",
     "output_type": "stream",
     "text": [
      "C:\\Users\\athul\\anaconda3\\Lib\\site-packages\\sklearn\\cluster\\_kmeans.py:870: FutureWarning: The default value of `n_init` will change from 10 to 'auto' in 1.4. Set the value of `n_init` explicitly to suppress the warning\n",
      "  warnings.warn(\n"
     ]
    },
    {
     "data": {
      "text/html": [
       "<style>#sk-container-id-2 {color: black;background-color: white;}#sk-container-id-2 pre{padding: 0;}#sk-container-id-2 div.sk-toggleable {background-color: white;}#sk-container-id-2 label.sk-toggleable__label {cursor: pointer;display: block;width: 100%;margin-bottom: 0;padding: 0.3em;box-sizing: border-box;text-align: center;}#sk-container-id-2 label.sk-toggleable__label-arrow:before {content: \"▸\";float: left;margin-right: 0.25em;color: #696969;}#sk-container-id-2 label.sk-toggleable__label-arrow:hover:before {color: black;}#sk-container-id-2 div.sk-estimator:hover label.sk-toggleable__label-arrow:before {color: black;}#sk-container-id-2 div.sk-toggleable__content {max-height: 0;max-width: 0;overflow: hidden;text-align: left;background-color: #f0f8ff;}#sk-container-id-2 div.sk-toggleable__content pre {margin: 0.2em;color: black;border-radius: 0.25em;background-color: #f0f8ff;}#sk-container-id-2 input.sk-toggleable__control:checked~div.sk-toggleable__content {max-height: 200px;max-width: 100%;overflow: auto;}#sk-container-id-2 input.sk-toggleable__control:checked~label.sk-toggleable__label-arrow:before {content: \"▾\";}#sk-container-id-2 div.sk-estimator input.sk-toggleable__control:checked~label.sk-toggleable__label {background-color: #d4ebff;}#sk-container-id-2 div.sk-label input.sk-toggleable__control:checked~label.sk-toggleable__label {background-color: #d4ebff;}#sk-container-id-2 input.sk-hidden--visually {border: 0;clip: rect(1px 1px 1px 1px);clip: rect(1px, 1px, 1px, 1px);height: 1px;margin: -1px;overflow: hidden;padding: 0;position: absolute;width: 1px;}#sk-container-id-2 div.sk-estimator {font-family: monospace;background-color: #f0f8ff;border: 1px dotted black;border-radius: 0.25em;box-sizing: border-box;margin-bottom: 0.5em;}#sk-container-id-2 div.sk-estimator:hover {background-color: #d4ebff;}#sk-container-id-2 div.sk-parallel-item::after {content: \"\";width: 100%;border-bottom: 1px solid gray;flex-grow: 1;}#sk-container-id-2 div.sk-label:hover label.sk-toggleable__label {background-color: #d4ebff;}#sk-container-id-2 div.sk-serial::before {content: \"\";position: absolute;border-left: 1px solid gray;box-sizing: border-box;top: 0;bottom: 0;left: 50%;z-index: 0;}#sk-container-id-2 div.sk-serial {display: flex;flex-direction: column;align-items: center;background-color: white;padding-right: 0.2em;padding-left: 0.2em;position: relative;}#sk-container-id-2 div.sk-item {position: relative;z-index: 1;}#sk-container-id-2 div.sk-parallel {display: flex;align-items: stretch;justify-content: center;background-color: white;position: relative;}#sk-container-id-2 div.sk-item::before, #sk-container-id-2 div.sk-parallel-item::before {content: \"\";position: absolute;border-left: 1px solid gray;box-sizing: border-box;top: 0;bottom: 0;left: 50%;z-index: -1;}#sk-container-id-2 div.sk-parallel-item {display: flex;flex-direction: column;z-index: 1;position: relative;background-color: white;}#sk-container-id-2 div.sk-parallel-item:first-child::after {align-self: flex-end;width: 50%;}#sk-container-id-2 div.sk-parallel-item:last-child::after {align-self: flex-start;width: 50%;}#sk-container-id-2 div.sk-parallel-item:only-child::after {width: 0;}#sk-container-id-2 div.sk-dashed-wrapped {border: 1px dashed gray;margin: 0 0.4em 0.5em 0.4em;box-sizing: border-box;padding-bottom: 0.4em;background-color: white;}#sk-container-id-2 div.sk-label label {font-family: monospace;font-weight: bold;display: inline-block;line-height: 1.2em;}#sk-container-id-2 div.sk-label-container {text-align: center;}#sk-container-id-2 div.sk-container {/* jupyter's `normalize.less` sets `[hidden] { display: none; }` but bootstrap.min.css set `[hidden] { display: none !important; }` so we also need the `!important` here to be able to override the default hidden behavior on the sphinx rendered scikit-learn.org. See: https://github.com/scikit-learn/scikit-learn/issues/21755 */display: inline-block !important;position: relative;}#sk-container-id-2 div.sk-text-repr-fallback {display: none;}</style><div id=\"sk-container-id-2\" class=\"sk-top-container\"><div class=\"sk-text-repr-fallback\"><pre>KMeans(n_clusters=3, random_state=42)</pre><b>In a Jupyter environment, please rerun this cell to show the HTML representation or trust the notebook. <br />On GitHub, the HTML representation is unable to render, please try loading this page with nbviewer.org.</b></div><div class=\"sk-container\" hidden><div class=\"sk-item\"><div class=\"sk-estimator sk-toggleable\"><input class=\"sk-toggleable__control sk-hidden--visually\" id=\"sk-estimator-id-2\" type=\"checkbox\" checked><label for=\"sk-estimator-id-2\" class=\"sk-toggleable__label sk-toggleable__label-arrow\">KMeans</label><div class=\"sk-toggleable__content\"><pre>KMeans(n_clusters=3, random_state=42)</pre></div></div></div></div></div>"
      ],
      "text/plain": [
       "KMeans(n_clusters=3, random_state=42)"
      ]
     },
     "execution_count": 201,
     "metadata": {},
     "output_type": "execute_result"
    }
   ],
   "source": [
    "km.fit(x)"
   ]
  },
  {
   "cell_type": "code",
   "execution_count": 202,
   "id": "6f873e41-a146-4cf3-9307-edbc524185cf",
   "metadata": {},
   "outputs": [
    {
     "name": "stderr",
     "output_type": "stream",
     "text": [
      "C:\\Users\\athul\\AppData\\Local\\Temp\\ipykernel_18848\\3103413415.py:2: UserWarning: No data for colormapping provided via 'c'. Parameters 'cmap' will be ignored\n",
      "  plt.scatter(df['age'],df['hours.per.week'],cmap='viridis',s=50,alpha=0.8,edgecolors='k')\n"
     ]
    },
    {
     "data": {
      "image/png": "[encoded data removed]",
      "text/plain": [
       "<Figure size 500x500 with 2 Axes>"
      ]
     },
     "metadata": {},
     "output_type": "display_data"
    }
   ],
   "source": [
    "plt.figure(figsize=(5,5))\n",
    "plt.scatter(df['age'],df['hours.per.week'],cmap='viridis',s=50,alpha=0.8,edgecolors='k')\n",
    "plt.xlabel('age')\n",
    "plt.ylabel('Hour/Week')\n",
    "plt.colorbar(label='Cluster')\n",
    "plt.grid()\n",
    "plt.show()"
   ]
  },
  {
   "cell_type": "code",
   "execution_count": 203,
   "id": "c7dfbcd7-c508-41c5-8f77-818a18690a21",
   "metadata": {},
   "outputs": [],
   "source": [
    "#Implement and apply a function that detects outliers in the age column using the IQR method and count the number of outliers."
   ]
  },
  {
   "cell_type": "code",
   "execution_count": 204,
   "id": "aa06686a-c93f-4afa-87ab-d9057b8644d0",
   "metadata": {},
   "outputs": [],
   "source": [
    "Q1 = df['age'].quantile(0.25)\n",
    "Q3 = df['age'].quantile(0.75)"
   ]
  },
  {
   "cell_type": "code",
   "execution_count": 205,
   "id": "c9970551-76d9-4a57-ae05-f23901ac47ca",
   "metadata": {},
   "outputs": [],
   "source": [
    "IQR = Q3 - Q1"
   ]
  },
  {
   "cell_type": "code",
   "execution_count": 206,
   "id": "9270a75f-6866-4c27-a0de-8c9765273ae4",
   "metadata": {},
   "outputs": [],
   "source": [
    "lower_bound = Q1 - 1.5 * IQR\n",
    "upper_bound = Q3 + 1.5 * IQR"
   ]
  },
  {
   "cell_type": "code",
   "execution_count": 207,
   "id": "bfcecb1f-c5e0-4492-abf0-837965ba2140",
   "metadata": {},
   "outputs": [
    {
     "data": {
      "text/plain": [
       "-2.0"
      ]
     },
     "execution_count": 207,
     "metadata": {},
     "output_type": "execute_result"
    }
   ],
   "source": [
    "lower_bound"
   ]
  },
  {
   "cell_type": "code",
   "execution_count": 208,
   "id": "42187717-8fdd-41dd-9b4c-bed2c4046373",
   "metadata": {},
   "outputs": [],
   "source": [
    "outliers = df[(df['age'] < lower_bound) | (df['age'] > upper_bound)]"
   ]
  },
  {
   "cell_type": "code",
   "execution_count": 209,
   "id": "dce91bc7-d8a5-466a-94e9-fb035457a93a",
   "metadata": {},
   "outputs": [],
   "source": [
    "#counting the outliers\n",
    "num_outliers = len(outliers)"
   ]
  },
  {
   "cell_type": "code",
   "execution_count": 210,
   "id": "f9d5349a-c59b-45bf-80f1-f3089f1ef240",
   "metadata": {},
   "outputs": [
    {
     "name": "stdout",
     "output_type": "stream",
     "text": [
      "Total Number of Outliers are: 143\n"
     ]
    }
   ],
   "source": [
    "print(f\"Total Number of Outliers are: {num_outliers}\")"
   ]
  },
  {
   "cell_type": "code",
   "execution_count": 211,
   "id": "88f7002b-4418-4e16-8fbb-680759df7040",
   "metadata": {},
   "outputs": [],
   "source": [
    "#Implement and apply a function that converts the native-country column into continent-based categories (e.g., North America, Europe), then analyze the distribution of income across these new categories."
   ]
  },
  {
   "cell_type": "code",
   "execution_count": 212,
   "id": "7e6676a3-35ed-4e1c-8f75-21dde510c792",
   "metadata": {},
   "outputs": [],
   "source": [
    "def map_country_to_continent(country):\n",
    "    continent_mapping = {\n",
    "        'United-States': 'North America',\n",
    "        'Canada': 'North America',\n",
    "        'Mexico': 'North America',\n",
    "        \n",
    "        # Add other countries and their corresponding continents here\n",
    "    }\n",
    "    return continent_mapping.get(country,'UNKNOWN')\n",
    "\n",
    "df['continent'] = df['native.country'].apply(map_country_to_continent)\n"
   ]
  },
  {
   "cell_type": "code",
   "execution_count": 213,
   "id": "e61cee1e-6748-4444-922c-8a11f65179a5",
   "metadata": {},
   "outputs": [
    {
     "data": {
      "text/plain": [
       "continent\n",
       "North America    29934\n",
       "UNKNOWN           2627\n",
       "Name: count, dtype: int64"
      ]
     },
     "execution_count": 213,
     "metadata": {},
     "output_type": "execute_result"
    }
   ],
   "source": [
    "df['continent'].value_counts()"
   ]
  },
  {
   "cell_type": "code",
   "execution_count": 214,
   "id": "cd50f00d-8517-437a-9312-cdca4d0c50f0",
   "metadata": {},
   "outputs": [
    {
     "data": {
      "text/plain": [
       "age\n",
       "36    898\n",
       "31    888\n",
       "34    886\n",
       "23    877\n",
       "35    876\n",
       "     ... \n",
       "83      6\n",
       "88      3\n",
       "85      3\n",
       "86      1\n",
       "87      1\n",
       "Name: count, Length: 73, dtype: int64"
      ]
     },
     "execution_count": 214,
     "metadata": {},
     "output_type": "execute_result"
    }
   ],
   "source": [
    "df['age'].value_counts()"
   ]
  },
  {
   "cell_type": "code",
   "execution_count": 215,
   "id": "ffc3dde6-fbdb-44b8-99cd-742e4edd4ce3",
   "metadata": {},
   "outputs": [
    {
     "data": {
      "text/plain": [
       "0    North America\n",
       "1    North America\n",
       "2    North America\n",
       "3    North America\n",
       "4    North America\n",
       "5    North America\n",
       "6    North America\n",
       "7    North America\n",
       "8    North America\n",
       "9          UNKNOWN\n",
       "Name: continent, dtype: object"
      ]
     },
     "execution_count": 215,
     "metadata": {},
     "output_type": "execute_result"
    }
   ],
   "source": [
    "df['continent'].head(10)"
   ]
  },
  {
   "cell_type": "code",
   "execution_count": 216,
   "id": "cf9db8f6-50ae-4462-a745-2e5e4b8e0dbf",
   "metadata": {},
   "outputs": [
    {
     "data": {
      "image/png": "[encoded data removed]",
      "text/plain": [
       "<Figure size 640x480 with 1 Axes>"
      ]
     },
     "metadata": {},
     "output_type": "display_data"
    }
   ],
   "source": [
    "import matplotlib.pyplot as plt\n",
    "\n",
    "# Assuming your income column is named 'income'\n",
    "income_by_continent = df.groupby('continent')['income'].value_counts(normalize=True).unstack()\n",
    "\n",
    "# Plot the income distribution\n",
    "income_by_continent.plot(kind='bar', stacked=True)\n",
    "plt.xlabel('Continent')\n",
    "plt.ylabel('Proportion')\n",
    "plt.title('Income Distribution by Continent')\n",
    "plt.show()\n"
   ]
  },
  {
   "cell_type": "code",
   "execution_count": null,
   "id": "8c7bac7c-8033-4a93-ae69-1a7582cbf6ab",
   "metadata": {},
   "outputs": [],
   "source": []
  }
 ],
 "metadata": {
  "kernelspec": {
   "display_name": "Python 3 (ipykernel)",
   "language": "python",
   "name": "python3"
  },
  "language_info": {
   "codemirror_mode": {
    "name": "ipython",
    "version": 3
   },
   "file_extension": ".py",
   "mimetype": "text/x-python",
   "name": "python",
   "nbconvert_exporter": "python",
   "pygments_lexer": "ipython3",
   "version": "3.11.7"
  }
 },
 "nbformat": 4,
 "nbformat_minor": 5
}
