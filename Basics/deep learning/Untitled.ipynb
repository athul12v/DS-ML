{
 "cells": [
  {
   "cell_type": "code",
   "execution_count": null,
   "id": "72276171-d2e2-4cb5-b823-bae73aa14a3a",
   "metadata": {},
   "outputs": [],
   "source": [
    "pip uninstall keras"
   ]
  },
  {
   "cell_type": "code",
   "execution_count": null,
   "id": "800a8f45-80f8-420d-874b-979c194cff27",
   "metadata": {},
   "outputs": [],
   "source": [
    "import pandas as pd\n",
    "import numpy as np\n",
    "import seaborn as sns\n",
    "\n",
    "from keras.models import Model\n",
    "from keras.models import Sequential\n",
    "from tensorflow.keras.models import Sequential\n",
    "from keras.layers import Input, Flatten, Dense, Conv2D, BatchNormalization, LeakyReLU, Dropout, Activation,MaxPooling2D\n",
    "from keras.optimizers import Adam, SGD\n",
    "from tensorflow.keras.preprocessing.image import ImageDataGenerator\n",
    "from keras.callbacks import ModelCheckpoint,EarlyStopping,ReduceLROnPlateau\n",
    "from tensorflow.keras.utils import to_categorical\n",
    "from keras_applications.resnet import ResNet50"
   ]
  },
  {
   "cell_type": "code",
   "execution_count": null,
   "id": "b38bd176-91d1-41aa-97c4-f00be3504d81",
   "metadata": {},
   "outputs": [],
   "source": [
    "train_df = pd.read_csv('')"
   ]
  },
  {
   "cell_type": "code",
   "execution_count": null,
   "id": "d3adfdb0-0f73-41e6-b61d-789e5d5e7c46",
   "metadata": {},
   "outputs": [],
   "source": []
  }
 ],
 "metadata": {
  "kernelspec": {
   "display_name": "Python 3 (ipykernel)",
   "language": "python",
   "name": "python3"
  },
  "language_info": {
   "codemirror_mode": {
    "name": "ipython",
    "version": 3
   },
   "file_extension": ".py",
   "mimetype": "text/x-python",
   "name": "python",
   "nbconvert_exporter": "python",
   "pygments_lexer": "ipython3",
   "version": "3.11.7"
  }
 },
 "nbformat": 4,
 "nbformat_minor": 5
}
