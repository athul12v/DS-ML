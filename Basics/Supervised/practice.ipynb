{
 "cells": [
  {
   "cell_type": "code",
   "execution_count": 7,
   "id": "eb08ba9f-17c7-49a0-81e8-c90b69f6d7e8",
   "metadata": {},
   "outputs": [
    {
     "name": "stdin",
     "output_type": "stream",
     "text": [
      "Enter the limit of X:  7\n",
      "Enter the limit of Y:  14\n"
     ]
    },
    {
     "name": "stdout",
     "output_type": "stream",
     "text": [
      "7\n",
      "11\n",
      "13\n"
     ]
    }
   ],
   "source": [
    "x = int(input(\"Enter the limit of X: \"))\n",
    "y = int(input(\"Enter the limit of Y: \"))\n",
    "for i in range(x,y+1):\n",
    "    for j in range(2,i):\n",
    "        if i%j==0:\n",
    "            break\n",
    "    else:\n",
    "        print(i)"
   ]
  },
  {
   "cell_type": "code",
   "execution_count": 27,
   "id": "93c8f55c-4961-4331-9f37-267fec7d1331",
   "metadata": {},
   "outputs": [
    {
     "name": "stdin",
     "output_type": "stream",
     "text": [
      "enter the number:  9474\n"
     ]
    },
    {
     "name": "stdout",
     "output_type": "stream",
     "text": [
      "the number is: 9474\n",
      "Armstrong\n"
     ]
    }
   ],
   "source": [
    "x = (input(\"enter the number: \"))\n",
    "print(\"the number is:\",x)\n",
    "sum=0\n",
    "lenX = len(x)\n",
    "for i in range(lenX):\n",
    "     k = (i//10)**lenX;\n",
    "if sum == k:\n",
    "    print(\"Armstrong\")\n",
    "else:\n",
    "    print(\"Not Armstrong\")"
   ]
  },
  {
   "cell_type": "code",
   "execution_count": 39,
   "id": "32e101df-9503-49b9-922f-9b1629f1e7b7",
   "metadata": {},
   "outputs": [
    {
     "name": "stdin",
     "output_type": "stream",
     "text": [
      "enter a num:  5\n"
     ]
    },
    {
     "name": "stdout",
     "output_type": "stream",
     "text": [
      "not perfect\n"
     ]
    }
   ],
   "source": [
    "x = int(input(\"enter a num: \"))\n",
    "sum=0\n",
    "for i in range(1,x):\n",
    "    if x%i==0:\n",
    "        sum+=i\n",
    "if sum==x:\n",
    "    print('perfect')\n",
    "else:\n",
    "    print('not perfect')"
   ]
  },
  {
   "cell_type": "code",
   "execution_count": 65,
   "id": "9b2b2f22-1729-49b1-a918-d2a7744839b1",
   "metadata": {},
   "outputs": [
    {
     "name": "stdin",
     "output_type": "stream",
     "text": [
      "Enter a String:  malayalam\n"
     ]
    },
    {
     "name": "stdout",
     "output_type": "stream",
     "text": [
      "mal\n",
      "mym\n",
      "ma\n",
      "ml\n",
      "ma\n",
      "mm\n"
     ]
    }
   ],
   "source": [
    "s = input(\"Enter a String: \")\n",
    "n = len(s)\n",
    "def is_pal(s):\n",
    "    return s==s[::-1]\n",
    "\n",
    "for i in range(3, n):\n",
    "    new_s = s[::i]\n",
    "    print(new_s)"
   ]
  },
  {
   "cell_type": "code",
   "execution_count": null,
   "id": "69d0f1cf-5029-4c89-aa87-e0d47dda09f5",
   "metadata": {},
   "outputs": [],
   "source": []
  }
 ],
 "metadata": {
  "kernelspec": {
   "display_name": "Python 3 (ipykernel)",
   "language": "python",
   "name": "python3"
  },
  "language_info": {
   "codemirror_mode": {
    "name": "ipython",
    "version": 3
   },
   "file_extension": ".py",
   "mimetype": "text/x-python",
   "name": "python",
   "nbconvert_exporter": "python",
   "pygments_lexer": "ipython3",
   "version": "3.11.7"
  }
 },
 "nbformat": 4,
 "nbformat_minor": 5
}
