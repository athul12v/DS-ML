{
 "cells": [
  {
   "cell_type": "code",
   "execution_count": 1,
   "id": "eacd3cd2-4ef5-45b3-968d-321141ef4bbf",
   "metadata": {},
   "outputs": [],
   "source": [
    "#One Dimensional Array"
   ]
  },
  {
   "cell_type": "code",
   "execution_count": 17,
   "id": "468989da-2ae6-45ad-88ec-0bc4fcf86867",
   "metadata": {},
   "outputs": [
    {
     "name": "stdout",
     "output_type": "stream",
     "text": [
      "[1 2 3 4]\n",
      "1\n",
      "[2 4 6 8]\n",
      "[1, 2, 3, 4, 1, 2, 3, 4]\n",
      "[10 20 30 40]\n"
     ]
    }
   ],
   "source": [
    "import numpy as np\n",
    "\n",
    "list1 = [1,2,3,4]\n",
    "arr1 = np.array(list1)\n",
    "\n",
    "print(arr1)\n",
    "\n",
    "print(arr1.ndim)\n",
    "\n",
    "print(arr1*2)\n",
    "\n",
    "print(list1*2)\n",
    "\n",
    "type(arr1)\n",
    "\n",
    "arr2 = np.array([10,20,30,40])\n",
    "print(arr2)"
   ]
  },
  {
   "cell_type": "code",
   "execution_count": 14,
   "id": "44919f55-6222-4bfe-aff7-a26e7d98ba47",
   "metadata": {},
   "outputs": [],
   "source": [
    "#Two Dimensional Array"
   ]
  },
  {
   "cell_type": "code",
   "execution_count": 26,
   "id": "79461e86-0661-4d72-8073-1be242c34583",
   "metadata": {},
   "outputs": [
    {
     "name": "stdout",
     "output_type": "stream",
     "text": [
      "[[ 1  2  3]\n",
      " [ 4  5  6]\n",
      " [ 7  8  9]\n",
      " [10 11 12]]\n",
      "2\n",
      "[[10 20 30]\n",
      " [40 50 60]]\n"
     ]
    },
    {
     "data": {
      "text/plain": [
       "6"
      ]
     },
     "execution_count": 26,
     "metadata": {},
     "output_type": "execute_result"
    }
   ],
   "source": [
    "import numpy as np\n",
    "arr1 = np.array([\n",
    "    [1,2,3], [4,5,6], [7,8,9], [10,11,12]\n",
    "])\n",
    "print(arr1)\n",
    "\n",
    "print(arr1.ndim)\n",
    "\n",
    "arr2 = np.array(\n",
    "    [\n",
    "        [10,20,30], [40,50,60]\n",
    "    ]\n",
    ")\n",
    "print(arr2)\n",
    "arr2.size"
   ]
  },
  {
   "cell_type": "code",
   "execution_count": 27,
   "id": "46a44d14-d226-4bdf-a9a9-061c66837978",
   "metadata": {},
   "outputs": [],
   "source": [
    "#shape of an Array"
   ]
  },
  {
   "cell_type": "code",
   "execution_count": 34,
   "id": "aa0835e3-05c0-43d5-84b0-cc1d3dd2d378",
   "metadata": {},
   "outputs": [
    {
     "name": "stdout",
     "output_type": "stream",
     "text": [
      "[1 2 3 4]\n"
     ]
    },
    {
     "data": {
      "text/plain": [
       "(4,)"
      ]
     },
     "execution_count": 34,
     "metadata": {},
     "output_type": "execute_result"
    }
   ],
   "source": [
    "import numpy as np\n",
    "arr1 = np.array([1,2,3,4])\n",
    "print(arr1)\n",
    "\n",
    "np.shape(arr1)\n",
    "#or\n",
    "arr1.shape"
   ]
  },
  {
   "cell_type": "code",
   "execution_count": 36,
   "id": "ca2e7200-6e03-45ad-b645-e53eb25a5bdf",
   "metadata": {},
   "outputs": [
    {
     "name": "stdout",
     "output_type": "stream",
     "text": [
      "[[ 1  2  3]\n",
      " [ 4  5  6]\n",
      " [ 7  8  9]\n",
      " [10 11 12]]\n"
     ]
    },
    {
     "data": {
      "text/plain": [
       "(4, 3)"
      ]
     },
     "execution_count": 36,
     "metadata": {},
     "output_type": "execute_result"
    }
   ],
   "source": [
    "arr2 = np.array([\n",
    "    [1,2,3], [4,5,6], [7,8,9], [10,11,12]\n",
    "])\n",
    "print(arr2)\n",
    "arr2.shape"
   ]
  },
  {
   "cell_type": "code",
   "execution_count": 37,
   "id": "c4acbdcb-baa3-4f5d-af0f-58b40dad4ebb",
   "metadata": {},
   "outputs": [
    {
     "name": "stdout",
     "output_type": "stream",
     "text": [
      "[[[ 1  2  3]\n",
      "  [ 4  5  6]\n",
      "  [ 7  8  9]\n",
      "  [10 11 12]]\n",
      "\n",
      " [[ 1  2  3]\n",
      "  [ 4  5  6]\n",
      "  [ 7  8  9]\n",
      "  [10 11 12]]\n",
      "\n",
      " [[ 1  2  3]\n",
      "  [ 4  5  6]\n",
      "  [ 7  8  9]\n",
      "  [10 11 12]]]\n"
     ]
    }
   ],
   "source": [
    "arr3 = np.array([\n",
    "    [[1,2,3],[4,5,6],[7,8,9],[10,11,12]],\n",
    "    [[1,2,3],[4,5,6],[7,8,9],[10,11,12]],\n",
    "    [[1,2,3],[4,5,6],[7,8,9],[10,11,12]],\n",
    "])\n",
    "print(arr3)\n",
    "\n",
    "np.shape(arr3)"
   ]
  },
  {
   "cell_type": "code",
   "execution_count": 38,
   "id": "17474e7a-6db3-482a-b7e8-623c074b674b",
   "metadata": {},
   "outputs": [
    {
     "data": {
      "text/plain": [
       "(3, 4, 3)"
      ]
     },
     "execution_count": 38,
     "metadata": {},
     "output_type": "execute_result"
    }
   ],
   "source": []
  },
  {
   "cell_type": "code",
   "execution_count": 39,
   "id": "1bc53b0b-b930-40f6-93f1-44a05b44e325",
   "metadata": {},
   "outputs": [],
   "source": [
    "#1D to 2D"
   ]
  },
  {
   "cell_type": "code",
   "execution_count": 44,
   "id": "4b7ac5bd-725b-4b5d-9183-1faf18467049",
   "metadata": {},
   "outputs": [
    {
     "name": "stdout",
     "output_type": "stream",
     "text": [
      "[1 2 3 4 5 6]\n",
      "[[1 2 3]\n",
      " [4 5 6]]\n"
     ]
    },
    {
     "data": {
      "text/plain": [
       "(2, 3)"
      ]
     },
     "execution_count": 44,
     "metadata": {},
     "output_type": "execute_result"
    }
   ],
   "source": [
    "arr1 = np.array([1,2,3,4,5,6])\n",
    "print(arr1)\n",
    "\n",
    "newArr1 = arr1.reshape(2,3)\n",
    "print(newArr1)\n",
    "newArr1.shape"
   ]
  },
  {
   "cell_type": "code",
   "execution_count": 49,
   "id": "ef9f0464-aaf2-43d4-afe8-7def7be60e31",
   "metadata": {},
   "outputs": [],
   "source": [
    "# Reshape"
   ]
  },
  {
   "cell_type": "code",
   "execution_count": 50,
   "id": "b9b28db4-10fd-4957-b9e7-796bcbe2410b",
   "metadata": {},
   "outputs": [
    {
     "name": "stdout",
     "output_type": "stream",
     "text": [
      "[1 2 3 4 5 6 7 8]\n",
      "[[[1 2]\n",
      "  [3 4]]\n",
      "\n",
      " [[5 6]\n",
      "  [7 8]]]\n"
     ]
    }
   ],
   "source": [
    "arr2 = np.array([1,2,3,4,5,6,7,8])\n",
    "print(arr2)\n",
    "\n",
    "newArr2 = arr2.reshape(2,2,2)\n",
    "print(newArr2)"
   ]
  },
  {
   "cell_type": "code",
   "execution_count": 51,
   "id": "007fdfbe-8550-4a32-97a3-e1b25feda15e",
   "metadata": {},
   "outputs": [
    {
     "name": "stdout",
     "output_type": "stream",
     "text": [
      "[1 2 3 4 5 6]\n",
      "[[1 2 3]\n",
      " [4 5 6]]\n",
      "[1 2 3 4 5 6]\n"
     ]
    }
   ],
   "source": [
    "arr4 = np.array([1,2,3,4,5,6])\n",
    "print(arr4)\n",
    "\n",
    "newArr4 = arr4.reshape(2,3)\n",
    "print(newArr4)\n",
    "\n",
    "newArr4 = newArr4.reshape(-1)\n",
    "print(newArr4)"
   ]
  },
  {
   "cell_type": "code",
   "execution_count": 52,
   "id": "e87d803d-7315-409c-997c-2058c63e7c5a",
   "metadata": {},
   "outputs": [],
   "source": [
    "# Numpy Data Types"
   ]
  },
  {
   "cell_type": "code",
   "execution_count": 56,
   "id": "4fc06198-476e-4c90-b6b8-ba5d5c0884f7",
   "metadata": {},
   "outputs": [
    {
     "name": "stdout",
     "output_type": "stream",
     "text": [
      "int32\n"
     ]
    }
   ],
   "source": [
    "arr1 = np.array([1,2,3,4])\n",
    "print(arr1.dtype)"
   ]
  },
  {
   "cell_type": "code",
   "execution_count": null,
   "id": "95e5921c-c8ca-4cc3-aacd-f20afb3b36ea",
   "metadata": {},
   "outputs": [],
   "source": []
  }
 ],
 "metadata": {
  "kernelspec": {
   "display_name": "Python 3 (ipykernel)",
   "language": "python",
   "name": "python3"
  },
  "language_info": {
   "codemirror_mode": {
    "name": "ipython",
    "version": 3
   },
   "file_extension": ".py",
   "mimetype": "text/x-python",
   "name": "python",
   "nbconvert_exporter": "python",
   "pygments_lexer": "ipython3",
   "version": "3.11.7"
  }
 },
 "nbformat": 4,
 "nbformat_minor": 5
}
