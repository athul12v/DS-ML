{
 "cells": [
  {
   "cell_type": "code",
   "execution_count": 1,
   "id": "42a55d54-92a3-4794-8237-fec97cb29e28",
   "metadata": {},
   "outputs": [],
   "source": [
    "#write a python program to implement list to series conversion"
   ]
  },
  {
   "cell_type": "code",
   "execution_count": 2,
   "id": "3eecca53-b075-491b-a0bb-19d7f23c5e02",
   "metadata": {},
   "outputs": [
    {
     "name": "stdout",
     "output_type": "stream",
     "text": [
      "0        Data\n",
      "1     Science\n",
      "2         And\n",
      "3     Machine\n",
      "4    Learning\n",
      "dtype: object\n"
     ]
    }
   ],
   "source": [
    "import pandas as pd\n",
    "x = pd.Series(['Data', 'Science', 'And', 'Machine', 'Learning'])\n",
    "print(x)"
   ]
  },
  {
   "cell_type": "code",
   "execution_count": 3,
   "id": "6f86cd0e-aa87-4bf8-8bb2-22268ecb57d8",
   "metadata": {},
   "outputs": [],
   "source": [
    "#program to generate series of Date from 1st May 2021 to 12th May 2021(both inclusive)"
   ]
  },
  {
   "cell_type": "code",
   "execution_count": 4,
   "id": "146231c3-41e3-4fd4-8004-013fc91aa6e9",
   "metadata": {},
   "outputs": [
    {
     "name": "stdout",
     "output_type": "stream",
     "text": [
      "DatetimeIndex(['2021-05-01', '2021-05-02', '2021-05-03', '2021-05-04',\n",
      "               '2021-05-05', '2021-05-06', '2021-05-07', '2021-05-08',\n",
      "               '2021-05-09', '2021-05-10', '2021-05-11', '2021-05-12'],\n",
      "              dtype='datetime64[ns]', freq='D')\n"
     ]
    }
   ],
   "source": [
    "import pandas as pd\n",
    "date_series = pd.date_range(start = '05-01-2021', end = '05-12-2021')\n",
    "print(date_series)"
   ]
  },
  {
   "cell_type": "code",
   "execution_count": null,
   "id": "f13dbdb3-e19a-479a-bab4-eb0d7e15a616",
   "metadata": {},
   "outputs": [],
   "source": []
  }
 ],
 "metadata": {
  "kernelspec": {
   "display_name": "Python 3 (ipykernel)",
   "language": "python",
   "name": "python3"
  },
  "language_info": {
   "codemirror_mode": {
    "name": "ipython",
    "version": 3
   },
   "file_extension": ".py",
   "mimetype": "text/x-python",
   "name": "python",
   "nbconvert_exporter": "python",
   "pygments_lexer": "ipython3",
   "version": "3.11.7"
  }
 },
 "nbformat": 4,
 "nbformat_minor": 5
}
