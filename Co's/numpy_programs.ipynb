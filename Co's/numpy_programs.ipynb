{
 "cells": [
  {
   "cell_type": "code",
   "execution_count": 1,
   "id": "c2135105-5076-460e-adf3-bba8a8e31d07",
   "metadata": {},
   "outputs": [],
   "source": [
    "#Program to multiply 2 given arrays of same size element by element"
   ]
  },
  {
   "cell_type": "code",
   "execution_count": 2,
   "id": "625ddade-bd4d-41f1-8463-09da4a97c84a",
   "metadata": {},
   "outputs": [
    {
     "name": "stdout",
     "output_type": "stream",
     "text": [
      "Array 1 =  [[2 5 2]\n",
      " [1 5 5]]\n",
      "Array 2 =  [[5 3 4]\n",
      " [3 2 5]]\n",
      "\n",
      "Multiply the two arrays of same size element by element:\n",
      "[[10 15  8]\n",
      " [ 3 10 25]]\n"
     ]
    }
   ],
   "source": [
    "import numpy as np\n",
    "\n",
    "num1 = np.array([[2, 5, 2],\n",
    "                 [1, 5, 5]\n",
    "                ])\n",
    "num2 = np.array([\n",
    "    [5, 3, 4],\n",
    "    [3, 2, 5]\n",
    "])\n",
    "print(\"Array 1 = \",num1)\n",
    "print(\"Array 2 = \",num2)\n",
    "print(\"\\nMultiply the two arrays of same size element by element:\")\n",
    "print(np.multiply(num1, num2))"
   ]
  },
  {
   "cell_type": "code",
   "execution_count": 3,
   "id": "8e0785f0-3532-412e-b75d-5cdf9555410c",
   "metadata": {},
   "outputs": [],
   "source": [
    "#Program to create an element-wise comparison (>,<,>=)"
   ]
  },
  {
   "cell_type": "code",
   "execution_count": 4,
   "id": "48e6655f-482d-4bd4-9d78-0276801cd6e7",
   "metadata": {},
   "outputs": [
    {
     "name": "stdout",
     "output_type": "stream",
     "text": [
      "Original Numbers are: [3 5] [2 5]\n",
      "Comparison - GREATER: \n",
      "[ True False]\n",
      "Comparison - GREATER EQUAL: \n",
      "[ True  True]\n",
      "Comparison - LESSER: \n",
      "[False False]\n"
     ]
    }
   ],
   "source": [
    "import numpy as np\n",
    "x = np.array([3, 5])\n",
    "y = np.array([2, 5])\n",
    "print(\"Original Numbers are:\",x,y)\n",
    "print(\"Comparison - GREATER: \")\n",
    "print(np.greater(x, y))\n",
    "print(\"Comparison - GREATER EQUAL: \")\n",
    "print(np.greater_equal(x, y))\n",
    "print(\"Comparison - LESSER: \")\n",
    "print(np.less(x, y))"
   ]
  },
  {
   "cell_type": "code",
   "execution_count": 5,
   "id": "e332f5fb-e928-4417-8710-23abb62f62c2",
   "metadata": {},
   "outputs": [],
   "source": [
    "#program to create an array of all even int from 30 to 70"
   ]
  },
  {
   "cell_type": "code",
   "execution_count": 6,
   "id": "f3cb90f2-5f1a-4c7f-be83-2b02a334f727",
   "metadata": {},
   "outputs": [
    {
     "name": "stdout",
     "output_type": "stream",
     "text": [
      "Array of all even integers from 30 to 70 are: \n",
      "[30 32 34 36 38 40 42 44 46 48 50 52 54 56 58 60 62 64 66 68 70]\n"
     ]
    }
   ],
   "source": [
    "import numpy as np\n",
    "array = np.arange(30,71,2)\n",
    "print(\"Array of all even integers from 30 to 70 are: \")\n",
    "print(array)"
   ]
  },
  {
   "cell_type": "code",
   "execution_count": null,
   "id": "30c80a7b-775b-4f35-8b96-54b457733971",
   "metadata": {},
   "outputs": [],
   "source": [
    "#create a 3*3 matrix"
   ]
  },
  {
   "cell_type": "code",
   "execution_count": 7,
   "id": "a58050c4-e2d8-4238-9b8a-65348e6ffd8b",
   "metadata": {},
   "outputs": [
    {
     "name": "stdout",
     "output_type": "stream",
     "text": [
      "3*3 matrix: \n",
      "[[1. 0. 0.]\n",
      " [0. 1. 0.]\n",
      " [0. 0. 1.]]\n"
     ]
    }
   ],
   "source": [
    "import numpy as np\n",
    "array_3D = np.identity(3)\n",
    "print(\"3*3 matrix: \")\n",
    "print(array_3D)"
   ]
  },
  {
   "cell_type": "code",
   "execution_count": null,
   "id": "51f42af7-0758-405d-a400-c50389288203",
   "metadata": {},
   "outputs": [],
   "source": [
    "#create a 5*5 zero matrix with elements on the main diagonal"
   ]
  },
  {
   "cell_type": "code",
   "execution_count": 8,
   "id": "d6f331e6-d541-420b-83e4-90d04bb7eac0",
   "metadata": {},
   "outputs": [
    {
     "name": "stdout",
     "output_type": "stream",
     "text": [
      "[[1 0 0 0 0]\n",
      " [0 2 0 0 0]\n",
      " [0 0 3 0 0]\n",
      " [0 0 0 4 0]\n",
      " [0 0 0 0 5]]\n"
     ]
    }
   ],
   "source": [
    "import numpy as np\n",
    "x = np.diag([1, 2, 3, 4, 5])\n",
    "print(x)"
   ]
  },
  {
   "cell_type": "code",
   "execution_count": null,
   "id": "0624ddfa-c7e1-4373-8872-0238e6da75c9",
   "metadata": {},
   "outputs": [],
   "source": [
    "#program to compute \"Sum of all Elements\" , \"Sum of each coloumn\" , \"Sum of each row\""
   ]
  },
  {
   "cell_type": "code",
   "execution_count": 9,
   "id": "11153712-003c-4d3f-ad12-69b84ee8ce59",
   "metadata": {},
   "outputs": [
    {
     "name": "stdout",
     "output_type": "stream",
     "text": [
      "original array: [[0 1]\n",
      " [2 3]]\n",
      "Sum of all Elements: \n",
      "6\n",
      "Sum of each coloumn: \n",
      "[2 4]\n",
      "Sum of each row: \n",
      "[1 5]\n"
     ]
    }
   ],
   "source": [
    "import numpy as np\n",
    "x = np.array([\n",
    "    [0,1], [2,3]\n",
    "])\n",
    "print(\"original array:\",x)\n",
    "print(\"Sum of all Elements: \")\n",
    "print(np.sum(x))\n",
    "print(\"Sum of each coloumn: \")\n",
    "print(np.sum(x, axis=0))\n",
    "print(\"Sum of each row: \")\n",
    "print(np.sum(x, axis=1))"
   ]
  },
  {
   "cell_type": "code",
   "execution_count": null,
   "id": "6c08bd06-a846-4c56-9394-086ebbc1e2eb",
   "metadata": {},
   "outputs": [],
   "source": []
  }
 ],
 "metadata": {
  "kernelspec": {
   "display_name": "Python 3 (ipykernel)",
   "language": "python",
   "name": "python3"
  },
  "language_info": {
   "codemirror_mode": {
    "name": "ipython",
    "version": 3
   },
   "file_extension": ".py",
   "mimetype": "text/x-python",
   "name": "python",
   "nbconvert_exporter": "python",
   "pygments_lexer": "ipython3",
   "version": "3.11.7"
  }
 },
 "nbformat": 4,
 "nbformat_minor": 5
}
