{
 "cells": [
  {
   "cell_type": "code",
   "execution_count": 1,
   "id": "43f2d6eb-d926-47e3-8218-c4b288febfa4",
   "metadata": {},
   "outputs": [],
   "source": [
    "#Calculator"
   ]
  },
  {
   "cell_type": "code",
   "execution_count": 2,
   "id": "ceed4471-2260-44a9-8bae-5dc3ae5cbe9b",
   "metadata": {},
   "outputs": [
    {
     "name": "stdout",
     "output_type": "stream",
     "text": [
      "Array a: [10 20 30 40]\n",
      "Array b: [1 2 3 4]\n",
      "Addition (a + b): [11 22 33 44]\n",
      "Subtraction (a - b): [ 9 18 27 36]\n",
      "Multiplication (a * b): [ 10  40  90 160]\n",
      "Division (a / b): [10. 10. 10. 10.]\n"
     ]
    }
   ],
   "source": [
    "import numpy as np\n",
    "\n",
    "# Create two arrays\n",
    "a = np.array([10, 20, 30, 40])\n",
    "b = np.array([1, 2, 3, 4])\n",
    "\n",
    "# Perform arithmetic operations\n",
    "addition = a + b\n",
    "subtraction = a - b\n",
    "multiplication = a * b\n",
    "division = a / b\n",
    "\n",
    "# Print the results\n",
    "print(\"Array a:\", a)\n",
    "print(\"Array b:\", b)\n",
    "print(\"Addition (a + b):\", addition)\n",
    "print(\"Subtraction (a - b):\", subtraction)\n",
    "print(\"Multiplication (a * b):\", multiplication)\n",
    "print(\"Division (a / b):\", division)"
   ]
  },
  {
   "cell_type": "code",
   "execution_count": 3,
   "id": "824c4b26-8d1a-4eff-9a04-4707156c013f",
   "metadata": {},
   "outputs": [],
   "source": [
    "#method-2"
   ]
  },
  {
   "cell_type": "code",
   "execution_count": 4,
   "id": "a3544e72-39bc-4fc3-b2d8-cb7ff1f8e5e0",
   "metadata": {},
   "outputs": [
    {
     "name": "stdin",
     "output_type": "stream",
     "text": [
      "Enter Number 1:  10\n",
      "Enter Number 2:  30\n"
     ]
    },
    {
     "name": "stdout",
     "output_type": "stream",
     "text": [
      "Addition:  40\n",
      "Substraction:  20\n",
      "Multiplication:  300\n",
      "Division:  3.0\n"
     ]
    }
   ],
   "source": [
    "import numpy as np\n",
    "\n",
    "num1 = int(input(\"Enter Number 1: \"))\n",
    "num2 = int(input(\"Enter Number 2: \"))\n",
    "\n",
    "add = num1 + num2\n",
    "sub = num2 - num1\n",
    "mul = num1 * num2\n",
    "div = num2 / num1\n",
    "\n",
    "print(\"Addition: \",add)\n",
    "print(\"Substraction: \",sub)\n",
    "print(\"Multiplication: \",mul)\n",
    "print(\"Division: \",div)"
   ]
  },
  {
   "cell_type": "code",
   "execution_count": 5,
   "id": "94bca03d-f3e4-4f6b-872b-eae0d696f092",
   "metadata": {},
   "outputs": [],
   "source": [
    "#method-3"
   ]
  },
  {
   "cell_type": "code",
   "execution_count": 6,
   "id": "75c24747-fe62-4f8f-9e31-bcec5d7301c3",
   "metadata": {},
   "outputs": [
    {
     "ename": "NameError",
     "evalue": "name 'get_input_array' is not defined",
     "output_type": "error",
     "traceback": [
      "\u001b[1;31m---------------------------------------------------------------------------\u001b[0m",
      "\u001b[1;31mNameError\u001b[0m                                 Traceback (most recent call last)",
      "Cell \u001b[1;32mIn[6], line 4\u001b[0m\n\u001b[0;32m      1\u001b[0m \u001b[38;5;28;01mimport\u001b[39;00m \u001b[38;5;21;01mnumpy\u001b[39;00m \u001b[38;5;28;01mas\u001b[39;00m \u001b[38;5;21;01mnp\u001b[39;00m\n\u001b[0;32m      3\u001b[0m \u001b[38;5;66;03m# Create two arrays\u001b[39;00m\n\u001b[1;32m----> 4\u001b[0m a \u001b[38;5;241m=\u001b[39m get_input_array(\u001b[38;5;124m\"\u001b[39m\u001b[38;5;124menter first number: \u001b[39m\u001b[38;5;124m\"\u001b[39m)\n\u001b[0;32m      5\u001b[0m b \u001b[38;5;241m=\u001b[39m get_input_array(\u001b[38;5;124m\"\u001b[39m\u001b[38;5;124menter second number: \u001b[39m\u001b[38;5;124m\"\u001b[39m)\n\u001b[0;32m      7\u001b[0m \u001b[38;5;66;03m# Perform arithmetic operations\u001b[39;00m\n",
      "\u001b[1;31mNameError\u001b[0m: name 'get_input_array' is not defined"
     ]
    }
   ],
   "source": [
    "import numpy as np\n",
    "\n",
    "# Create two arrays\n",
    "a = get_input_array(\"enter first number: \")\n",
    "b = get_input_array(\"enter second number: \")\n",
    "\n",
    "# Perform arithmetic operations\n",
    "addition = a + b\n",
    "subtraction = a - b\n",
    "multiplication = a * b\n",
    "division = a / b\n",
    "\n",
    "# Print the results\n",
    "print(\"Array a:\", a)\n",
    "print(\"Array b:\", b)\n",
    "print(\"Addition (a + b):\", addition)\n",
    "print(\"Subtraction (a - b):\", subtraction)\n",
    "print(\"Multiplication (a * b):\", multiplication)\n",
    "print(\"Division (a / b):\", division)"
   ]
  },
  {
   "cell_type": "code",
   "execution_count": null,
   "id": "2279cebf-4d4d-4f5c-b23b-3b05fbe6c7de",
   "metadata": {},
   "outputs": [],
   "source": []
  }
 ],
 "metadata": {
  "kernelspec": {
   "display_name": "Python 3 (ipykernel)",
   "language": "python",
   "name": "python3"
  },
  "language_info": {
   "codemirror_mode": {
    "name": "ipython",
    "version": 3
   },
   "file_extension": ".py",
   "mimetype": "text/x-python",
   "name": "python",
   "nbconvert_exporter": "python",
   "pygments_lexer": "ipython3",
   "version": "3.11.7"
  }
 },
 "nbformat": 4,
 "nbformat_minor": 5
}
